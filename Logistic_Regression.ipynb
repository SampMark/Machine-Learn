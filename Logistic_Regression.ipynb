{
  "cells": [
    {
      "cell_type": "markdown",
      "metadata": {
        "id": "view-in-github",
        "colab_type": "text"
      },
      "source": [
        "<a href=\"https://colab.research.google.com/github/SampMark/Machine-Learn/blob/main/Logistic_Regression.ipynb\" target=\"_parent\"><img src=\"https://colab.research.google.com/assets/colab-badge.svg\" alt=\"Open In Colab\"/></a>"
      ]
    },
    {
      "cell_type": "markdown",
      "metadata": {
        "id": "HoHOcw5wcrSE"
      },
      "source": [
        "# **Modelo de Regressão Logística**\n",
        "\n",
        "### **O que é uma regressão logística?**\n",
        "\n",
        "A regressão logística é um modelo estatístico que, em essência, modela a relação entre uma ou mais variáveis independentes para prever um resultado de uma variável de saída/dependente categórica, isto é, que assume apenas dois valores, tais como: \"sim\" ou \"não\", \"verdadeiro\" ou \"falso\", \"0\" ou \"1\".\n",
        "\n",
        "Em outras palavras, a regressão logística é usada para classificar registros de um conjunto de dados com base nos valores dos campos de entrada. Tem como finalidade para prever a probabilidade de uma variável dependente binária, podendo ser usada tanto para classificação binária, quanto para classificação de múltiplas classes.\n",
        "\n",
        "### **Quando é interessante aplicar o Modelo de Regressão Logística?**\n",
        "\n",
        "A seguir quatro modalidades em que a regressão logística é uma boa escolha:\n",
        "\n",
        "* Quando o campo alvo dos dados for categórico, especificamente binário, como um/zero, sim/não, emigrou/não migrou, positivo/negativo, etc.\n",
        "* Quando for interessante estimar probabilidades para previsões. Por exemplo, quando é interessante saber qual a probabilidade de um cliente comprar um produto, a regressão logística retornará uma pontuação de probabilidade entre zero, conforme a amostra de dados.\n",
        "* Quando os dados forem linearmente separáveis, assim um classificador classificará todos os pontos de um lado da fronteira de decisão como pertencentes a uma classe e os do outro lado como pertencentes à outra classe. A fronteira de decisão da regressão logística pode ser uma linha, plano ou hiperplano.\n",
        "* Quando se pretende compreender o impacto de determinada característica. É possível selecionar as melhores características com base na significância estatística dos coeficientes ou parâmetros do modelo de regressão logística. Isso permite compreender o impacto de uma variável independente na variável dependente, controlando as outras variáveis independentes."
      ]
    },
    {
      "cell_type": "markdown",
      "metadata": {
        "id": "apN9RDNchhYD"
      },
      "source": [
        "## **Instalando e importando as bibliotecas Python**\n",
        "\n",
        "---\n",
        "\n"
      ]
    },
    {
      "cell_type": "code",
      "execution_count": 44,
      "metadata": {
        "colab": {
          "base_uri": "https://localhost:8080/"
        },
        "id": "HcrbaPg6QqCU",
        "outputId": "cc7adb6d-cfff-48f7-8cc1-88ce40bd5581"
      },
      "outputs": [
        {
          "output_type": "stream",
          "name": "stdout",
          "text": [
            "Requirement already satisfied: scikit-learn in /usr/local/lib/python3.10/dist-packages (1.5.2)\n",
            "Requirement already satisfied: numpy>=1.19.5 in /usr/local/lib/python3.10/dist-packages (from scikit-learn) (1.26.4)\n",
            "Requirement already satisfied: scipy>=1.6.0 in /usr/local/lib/python3.10/dist-packages (from scikit-learn) (1.13.1)\n",
            "Requirement already satisfied: joblib>=1.2.0 in /usr/local/lib/python3.10/dist-packages (from scikit-learn) (1.4.2)\n",
            "Requirement already satisfied: threadpoolctl>=3.1.0 in /usr/local/lib/python3.10/dist-packages (from scikit-learn) (3.5.0)\n",
            "Requirement already satisfied: matplotlib in /usr/local/lib/python3.10/dist-packages (3.8.0)\n",
            "Requirement already satisfied: contourpy>=1.0.1 in /usr/local/lib/python3.10/dist-packages (from matplotlib) (1.3.0)\n",
            "Requirement already satisfied: cycler>=0.10 in /usr/local/lib/python3.10/dist-packages (from matplotlib) (0.12.1)\n",
            "Requirement already satisfied: fonttools>=4.22.0 in /usr/local/lib/python3.10/dist-packages (from matplotlib) (4.54.1)\n",
            "Requirement already satisfied: kiwisolver>=1.0.1 in /usr/local/lib/python3.10/dist-packages (from matplotlib) (1.4.7)\n",
            "Requirement already satisfied: numpy<2,>=1.21 in /usr/local/lib/python3.10/dist-packages (from matplotlib) (1.26.4)\n",
            "Requirement already satisfied: packaging>=20.0 in /usr/local/lib/python3.10/dist-packages (from matplotlib) (24.2)\n",
            "Requirement already satisfied: pillow>=6.2.0 in /usr/local/lib/python3.10/dist-packages (from matplotlib) (11.0.0)\n",
            "Requirement already satisfied: pyparsing>=2.3.1 in /usr/local/lib/python3.10/dist-packages (from matplotlib) (3.2.0)\n",
            "Requirement already satisfied: python-dateutil>=2.7 in /usr/local/lib/python3.10/dist-packages (from matplotlib) (2.8.2)\n",
            "Requirement already satisfied: six>=1.5 in /usr/local/lib/python3.10/dist-packages (from python-dateutil>=2.7->matplotlib) (1.16.0)\n",
            "Requirement already satisfied: pandas in /usr/local/lib/python3.10/dist-packages (2.2.2)\n",
            "Requirement already satisfied: numpy>=1.22.4 in /usr/local/lib/python3.10/dist-packages (from pandas) (1.26.4)\n",
            "Requirement already satisfied: python-dateutil>=2.8.2 in /usr/local/lib/python3.10/dist-packages (from pandas) (2.8.2)\n",
            "Requirement already satisfied: pytz>=2020.1 in /usr/local/lib/python3.10/dist-packages (from pandas) (2024.2)\n",
            "Requirement already satisfied: tzdata>=2022.7 in /usr/local/lib/python3.10/dist-packages (from pandas) (2024.2)\n",
            "Requirement already satisfied: six>=1.5 in /usr/local/lib/python3.10/dist-packages (from python-dateutil>=2.8.2->pandas) (1.16.0)\n",
            "Requirement already satisfied: numpy in /usr/local/lib/python3.10/dist-packages (1.26.4)\n",
            "Requirement already satisfied: seaborn in /usr/local/lib/python3.10/dist-packages (0.13.2)\n",
            "Requirement already satisfied: numpy!=1.24.0,>=1.20 in /usr/local/lib/python3.10/dist-packages (from seaborn) (1.26.4)\n",
            "Requirement already satisfied: pandas>=1.2 in /usr/local/lib/python3.10/dist-packages (from seaborn) (2.2.2)\n",
            "Requirement already satisfied: matplotlib!=3.6.1,>=3.4 in /usr/local/lib/python3.10/dist-packages (from seaborn) (3.8.0)\n",
            "Requirement already satisfied: contourpy>=1.0.1 in /usr/local/lib/python3.10/dist-packages (from matplotlib!=3.6.1,>=3.4->seaborn) (1.3.0)\n",
            "Requirement already satisfied: cycler>=0.10 in /usr/local/lib/python3.10/dist-packages (from matplotlib!=3.6.1,>=3.4->seaborn) (0.12.1)\n",
            "Requirement already satisfied: fonttools>=4.22.0 in /usr/local/lib/python3.10/dist-packages (from matplotlib!=3.6.1,>=3.4->seaborn) (4.54.1)\n",
            "Requirement already satisfied: kiwisolver>=1.0.1 in /usr/local/lib/python3.10/dist-packages (from matplotlib!=3.6.1,>=3.4->seaborn) (1.4.7)\n",
            "Requirement already satisfied: packaging>=20.0 in /usr/local/lib/python3.10/dist-packages (from matplotlib!=3.6.1,>=3.4->seaborn) (24.2)\n",
            "Requirement already satisfied: pillow>=6.2.0 in /usr/local/lib/python3.10/dist-packages (from matplotlib!=3.6.1,>=3.4->seaborn) (11.0.0)\n",
            "Requirement already satisfied: pyparsing>=2.3.1 in /usr/local/lib/python3.10/dist-packages (from matplotlib!=3.6.1,>=3.4->seaborn) (3.2.0)\n",
            "Requirement already satisfied: python-dateutil>=2.7 in /usr/local/lib/python3.10/dist-packages (from matplotlib!=3.6.1,>=3.4->seaborn) (2.8.2)\n",
            "Requirement already satisfied: pytz>=2020.1 in /usr/local/lib/python3.10/dist-packages (from pandas>=1.2->seaborn) (2024.2)\n",
            "Requirement already satisfied: tzdata>=2022.7 in /usr/local/lib/python3.10/dist-packages (from pandas>=1.2->seaborn) (2024.2)\n",
            "Requirement already satisfied: six>=1.5 in /usr/local/lib/python3.10/dist-packages (from python-dateutil>=2.7->matplotlib!=3.6.1,>=3.4->seaborn) (1.16.0)\n"
          ]
        }
      ],
      "source": [
        "!pip install scikit-learn # Instala o Scikit-learn para o aprendizado de máquina\n",
        "!pip install matplotlib # Instala o Matplotlib para plotagem gráfica em vários formatos\n",
        "!pip install pandas # Instala o Pandas para análise e limpeza de dados, estruturas de dados e operações\n",
        "!pip install numpy # Instala o NumPy para suporte a arrays e matrizes multidimensionais\n",
        "!pip install seaborn # Instala o Seaborn para visualização de dados baseada no Matplotlib"
      ]
    },
    {
      "cell_type": "code",
      "execution_count": 53,
      "metadata": {
        "id": "3P8lTwrlSTnT"
      },
      "outputs": [],
      "source": [
        "import pandas as pd # Manipulação e análise de dados\n",
        "import pylab as pl # Computação numérica e plotagem (Pylab, NumPy)\n",
        "import numpy as np\n",
        "import seaborn as sns # Visualização de dados baseada no Matplotlib\n",
        "import matplotlib.pyplot as plt # Plotagem de gráficos\n",
        "import scipy.optimize as opt # Otimização de funções\n",
        "from sklearn import preprocessing # Pré-processamento de dados"
      ]
    },
    {
      "cell_type": "markdown",
      "source": [
        "# **Estudo de caso: previsão de cancelamento (*churn*) ou rotatividade de clientes de uma empresa de telecomunicações hipotética**\n",
        "\n",
        "Neste estudo de caso, com base em dados hipotéticos (`ChurnData.csv`) de uma empresa de telecomunicações, iremos aplicar a regressão logística para analise de rotatividade dos clientes ou \"previsão de churn\", isto é, prever a probabilidade/risco de um cliente cancelar ou não seus serviços.\n",
        "\n",
        "Ao analisar variáveis como tempo de contrato, uso de serviços e histórico de pagamentos, é possível identificar clientes com maior \"risco de churn\", assim a empresas poderá fortalecer a estratégia de marketing para fidelização (retenção) de determinadas categorias de clientes.\n",
        "\n",
        "**Outros exemplos de aplicações:**\n",
        "\n",
        "1. **Economia e Finanças**:\n",
        "  * **Avaliação do risco de crédito de clientes**, ao analisar variáveis como histórico de crédito, renda e dívidas existentes, é possível determinar a probabilidade de um cliente não cumprir com suas obrigações financeiras, para se determinar se um empréstimo deve ou não ser concedido (risco de inadimplência).\n",
        "  * **Detecção de fraudes em transações**, instituições financeiras tem utilizado modelagens capazes de analisar padrões de comportamento dos clientes, e a partir do monitoramento das transações, o modelo irá sinalizar atividades anômalas passíveis de investigação.\n",
        "  * **Marketing**:\n",
        "  * **Identificar clientes em potencial**, que têm maior probabilidade de responder a uma campanha publicitária.\n",
        "2. **Industria**:\n",
        "  * **Previsão de falhas em equipamentos industriais**, com base m dados de sensores e histórico de manutenção é possível prever falhas em máquinas, auxiliando as equipes de manutenção preditiva, reduzindo custos e evitando paradas não planejadas.\n",
        "3. **Medicina**:\n",
        "  * **Previsão de pacientes desenvolverem determinadas doenças**, com base em base de dados de resultados de exames e fatores de risco em pacientes, modelos como o de regressão logística podem analisar vários fatores, como faixa eatária, índice de massa corporal, pressão arterial, histórico familiar etc, e realizar as predições."
      ],
      "metadata": {
        "id": "Cm1AiD8DvXBd"
      }
    },
    {
      "cell_type": "markdown",
      "metadata": {
        "id": "09ktvzahTq-K"
      },
      "source": [
        "## **Importando e explorando os dados**"
      ]
    },
    {
      "cell_type": "code",
      "execution_count": 46,
      "metadata": {
        "colab": {
          "base_uri": "https://localhost:8080/",
          "height": 292
        },
        "id": "O7WkSWNzTwv7",
        "outputId": "7b928fd1-60a4-437b-b210-41c7126d754f"
      },
      "outputs": [
        {
          "output_type": "stream",
          "name": "stdout",
          "text": [
            "Número de linhas e colunas: (200, 28)\n",
            "Variáveis: ['tenure', 'age', 'address', 'income', 'ed', 'employ', 'equip', 'callcard', 'wireless', 'longmon', 'tollmon', 'equipmon', 'cardmon', 'wiremon', 'longten', 'tollten', 'cardten', 'voice', 'pager', 'internet', 'callwait', 'confer', 'ebill', 'loglong', 'logtoll', 'lninc', 'custcat', 'churn']\n"
          ]
        },
        {
          "output_type": "execute_result",
          "data": {
            "text/plain": [
              "   tenure   age  address  income   ed  employ  equip  callcard  wireless  \\\n",
              "0    11.0  33.0      7.0   136.0  5.0     5.0    0.0       1.0       1.0   \n",
              "1    33.0  33.0     12.0    33.0  2.0     0.0    0.0       0.0       0.0   \n",
              "2    23.0  30.0      9.0    30.0  1.0     2.0    0.0       0.0       0.0   \n",
              "3    38.0  35.0      5.0    76.0  2.0    10.0    1.0       1.0       1.0   \n",
              "4     7.0  35.0     14.0    80.0  2.0    15.0    0.0       1.0       0.0   \n",
              "\n",
              "   longmon  ...  pager  internet  callwait  confer  ebill  loglong  logtoll  \\\n",
              "0     4.40  ...    1.0       0.0       1.0     1.0    0.0    1.482    3.033   \n",
              "1     9.45  ...    0.0       0.0       0.0     0.0    0.0    2.246    3.240   \n",
              "2     6.30  ...    0.0       0.0       0.0     1.0    0.0    1.841    3.240   \n",
              "3     6.05  ...    1.0       1.0       1.0     1.0    1.0    1.800    3.807   \n",
              "4     7.10  ...    0.0       0.0       1.0     1.0    0.0    1.960    3.091   \n",
              "\n",
              "   lninc  custcat  churn  \n",
              "0  4.913      4.0    1.0  \n",
              "1  3.497      1.0    1.0  \n",
              "2  3.401      3.0    0.0  \n",
              "3  4.331      4.0    0.0  \n",
              "4  4.382      3.0    0.0  \n",
              "\n",
              "[5 rows x 28 columns]"
            ],
            "text/html": [
              "\n",
              "  <div id=\"df-752d8680-0124-4091-bacc-24c4650a5a31\" class=\"colab-df-container\">\n",
              "    <div>\n",
              "<style scoped>\n",
              "    .dataframe tbody tr th:only-of-type {\n",
              "        vertical-align: middle;\n",
              "    }\n",
              "\n",
              "    .dataframe tbody tr th {\n",
              "        vertical-align: top;\n",
              "    }\n",
              "\n",
              "    .dataframe thead th {\n",
              "        text-align: right;\n",
              "    }\n",
              "</style>\n",
              "<table border=\"1\" class=\"dataframe\">\n",
              "  <thead>\n",
              "    <tr style=\"text-align: right;\">\n",
              "      <th></th>\n",
              "      <th>tenure</th>\n",
              "      <th>age</th>\n",
              "      <th>address</th>\n",
              "      <th>income</th>\n",
              "      <th>ed</th>\n",
              "      <th>employ</th>\n",
              "      <th>equip</th>\n",
              "      <th>callcard</th>\n",
              "      <th>wireless</th>\n",
              "      <th>longmon</th>\n",
              "      <th>...</th>\n",
              "      <th>pager</th>\n",
              "      <th>internet</th>\n",
              "      <th>callwait</th>\n",
              "      <th>confer</th>\n",
              "      <th>ebill</th>\n",
              "      <th>loglong</th>\n",
              "      <th>logtoll</th>\n",
              "      <th>lninc</th>\n",
              "      <th>custcat</th>\n",
              "      <th>churn</th>\n",
              "    </tr>\n",
              "  </thead>\n",
              "  <tbody>\n",
              "    <tr>\n",
              "      <th>0</th>\n",
              "      <td>11.0</td>\n",
              "      <td>33.0</td>\n",
              "      <td>7.0</td>\n",
              "      <td>136.0</td>\n",
              "      <td>5.0</td>\n",
              "      <td>5.0</td>\n",
              "      <td>0.0</td>\n",
              "      <td>1.0</td>\n",
              "      <td>1.0</td>\n",
              "      <td>4.40</td>\n",
              "      <td>...</td>\n",
              "      <td>1.0</td>\n",
              "      <td>0.0</td>\n",
              "      <td>1.0</td>\n",
              "      <td>1.0</td>\n",
              "      <td>0.0</td>\n",
              "      <td>1.482</td>\n",
              "      <td>3.033</td>\n",
              "      <td>4.913</td>\n",
              "      <td>4.0</td>\n",
              "      <td>1.0</td>\n",
              "    </tr>\n",
              "    <tr>\n",
              "      <th>1</th>\n",
              "      <td>33.0</td>\n",
              "      <td>33.0</td>\n",
              "      <td>12.0</td>\n",
              "      <td>33.0</td>\n",
              "      <td>2.0</td>\n",
              "      <td>0.0</td>\n",
              "      <td>0.0</td>\n",
              "      <td>0.0</td>\n",
              "      <td>0.0</td>\n",
              "      <td>9.45</td>\n",
              "      <td>...</td>\n",
              "      <td>0.0</td>\n",
              "      <td>0.0</td>\n",
              "      <td>0.0</td>\n",
              "      <td>0.0</td>\n",
              "      <td>0.0</td>\n",
              "      <td>2.246</td>\n",
              "      <td>3.240</td>\n",
              "      <td>3.497</td>\n",
              "      <td>1.0</td>\n",
              "      <td>1.0</td>\n",
              "    </tr>\n",
              "    <tr>\n",
              "      <th>2</th>\n",
              "      <td>23.0</td>\n",
              "      <td>30.0</td>\n",
              "      <td>9.0</td>\n",
              "      <td>30.0</td>\n",
              "      <td>1.0</td>\n",
              "      <td>2.0</td>\n",
              "      <td>0.0</td>\n",
              "      <td>0.0</td>\n",
              "      <td>0.0</td>\n",
              "      <td>6.30</td>\n",
              "      <td>...</td>\n",
              "      <td>0.0</td>\n",
              "      <td>0.0</td>\n",
              "      <td>0.0</td>\n",
              "      <td>1.0</td>\n",
              "      <td>0.0</td>\n",
              "      <td>1.841</td>\n",
              "      <td>3.240</td>\n",
              "      <td>3.401</td>\n",
              "      <td>3.0</td>\n",
              "      <td>0.0</td>\n",
              "    </tr>\n",
              "    <tr>\n",
              "      <th>3</th>\n",
              "      <td>38.0</td>\n",
              "      <td>35.0</td>\n",
              "      <td>5.0</td>\n",
              "      <td>76.0</td>\n",
              "      <td>2.0</td>\n",
              "      <td>10.0</td>\n",
              "      <td>1.0</td>\n",
              "      <td>1.0</td>\n",
              "      <td>1.0</td>\n",
              "      <td>6.05</td>\n",
              "      <td>...</td>\n",
              "      <td>1.0</td>\n",
              "      <td>1.0</td>\n",
              "      <td>1.0</td>\n",
              "      <td>1.0</td>\n",
              "      <td>1.0</td>\n",
              "      <td>1.800</td>\n",
              "      <td>3.807</td>\n",
              "      <td>4.331</td>\n",
              "      <td>4.0</td>\n",
              "      <td>0.0</td>\n",
              "    </tr>\n",
              "    <tr>\n",
              "      <th>4</th>\n",
              "      <td>7.0</td>\n",
              "      <td>35.0</td>\n",
              "      <td>14.0</td>\n",
              "      <td>80.0</td>\n",
              "      <td>2.0</td>\n",
              "      <td>15.0</td>\n",
              "      <td>0.0</td>\n",
              "      <td>1.0</td>\n",
              "      <td>0.0</td>\n",
              "      <td>7.10</td>\n",
              "      <td>...</td>\n",
              "      <td>0.0</td>\n",
              "      <td>0.0</td>\n",
              "      <td>1.0</td>\n",
              "      <td>1.0</td>\n",
              "      <td>0.0</td>\n",
              "      <td>1.960</td>\n",
              "      <td>3.091</td>\n",
              "      <td>4.382</td>\n",
              "      <td>3.0</td>\n",
              "      <td>0.0</td>\n",
              "    </tr>\n",
              "  </tbody>\n",
              "</table>\n",
              "<p>5 rows × 28 columns</p>\n",
              "</div>\n",
              "    <div class=\"colab-df-buttons\">\n",
              "\n",
              "  <div class=\"colab-df-container\">\n",
              "    <button class=\"colab-df-convert\" onclick=\"convertToInteractive('df-752d8680-0124-4091-bacc-24c4650a5a31')\"\n",
              "            title=\"Convert this dataframe to an interactive table.\"\n",
              "            style=\"display:none;\">\n",
              "\n",
              "  <svg xmlns=\"http://www.w3.org/2000/svg\" height=\"24px\" viewBox=\"0 -960 960 960\">\n",
              "    <path d=\"M120-120v-720h720v720H120Zm60-500h600v-160H180v160Zm220 220h160v-160H400v160Zm0 220h160v-160H400v160ZM180-400h160v-160H180v160Zm440 0h160v-160H620v160ZM180-180h160v-160H180v160Zm440 0h160v-160H620v160Z\"/>\n",
              "  </svg>\n",
              "    </button>\n",
              "\n",
              "  <style>\n",
              "    .colab-df-container {\n",
              "      display:flex;\n",
              "      gap: 12px;\n",
              "    }\n",
              "\n",
              "    .colab-df-convert {\n",
              "      background-color: #E8F0FE;\n",
              "      border: none;\n",
              "      border-radius: 50%;\n",
              "      cursor: pointer;\n",
              "      display: none;\n",
              "      fill: #1967D2;\n",
              "      height: 32px;\n",
              "      padding: 0 0 0 0;\n",
              "      width: 32px;\n",
              "    }\n",
              "\n",
              "    .colab-df-convert:hover {\n",
              "      background-color: #E2EBFA;\n",
              "      box-shadow: 0px 1px 2px rgba(60, 64, 67, 0.3), 0px 1px 3px 1px rgba(60, 64, 67, 0.15);\n",
              "      fill: #174EA6;\n",
              "    }\n",
              "\n",
              "    .colab-df-buttons div {\n",
              "      margin-bottom: 4px;\n",
              "    }\n",
              "\n",
              "    [theme=dark] .colab-df-convert {\n",
              "      background-color: #3B4455;\n",
              "      fill: #D2E3FC;\n",
              "    }\n",
              "\n",
              "    [theme=dark] .colab-df-convert:hover {\n",
              "      background-color: #434B5C;\n",
              "      box-shadow: 0px 1px 3px 1px rgba(0, 0, 0, 0.15);\n",
              "      filter: drop-shadow(0px 1px 2px rgba(0, 0, 0, 0.3));\n",
              "      fill: #FFFFFF;\n",
              "    }\n",
              "  </style>\n",
              "\n",
              "    <script>\n",
              "      const buttonEl =\n",
              "        document.querySelector('#df-752d8680-0124-4091-bacc-24c4650a5a31 button.colab-df-convert');\n",
              "      buttonEl.style.display =\n",
              "        google.colab.kernel.accessAllowed ? 'block' : 'none';\n",
              "\n",
              "      async function convertToInteractive(key) {\n",
              "        const element = document.querySelector('#df-752d8680-0124-4091-bacc-24c4650a5a31');\n",
              "        const dataTable =\n",
              "          await google.colab.kernel.invokeFunction('convertToInteractive',\n",
              "                                                    [key], {});\n",
              "        if (!dataTable) return;\n",
              "\n",
              "        const docLinkHtml = 'Like what you see? Visit the ' +\n",
              "          '<a target=\"_blank\" href=https://colab.research.google.com/notebooks/data_table.ipynb>data table notebook</a>'\n",
              "          + ' to learn more about interactive tables.';\n",
              "        element.innerHTML = '';\n",
              "        dataTable['output_type'] = 'display_data';\n",
              "        await google.colab.output.renderOutput(dataTable, element);\n",
              "        const docLink = document.createElement('div');\n",
              "        docLink.innerHTML = docLinkHtml;\n",
              "        element.appendChild(docLink);\n",
              "      }\n",
              "    </script>\n",
              "  </div>\n",
              "\n",
              "\n",
              "<div id=\"df-e2bb0da6-0382-437a-863e-c6bf566f41a9\">\n",
              "  <button class=\"colab-df-quickchart\" onclick=\"quickchart('df-e2bb0da6-0382-437a-863e-c6bf566f41a9')\"\n",
              "            title=\"Suggest charts\"\n",
              "            style=\"display:none;\">\n",
              "\n",
              "<svg xmlns=\"http://www.w3.org/2000/svg\" height=\"24px\"viewBox=\"0 0 24 24\"\n",
              "     width=\"24px\">\n",
              "    <g>\n",
              "        <path d=\"M19 3H5c-1.1 0-2 .9-2 2v14c0 1.1.9 2 2 2h14c1.1 0 2-.9 2-2V5c0-1.1-.9-2-2-2zM9 17H7v-7h2v7zm4 0h-2V7h2v10zm4 0h-2v-4h2v4z\"/>\n",
              "    </g>\n",
              "</svg>\n",
              "  </button>\n",
              "\n",
              "<style>\n",
              "  .colab-df-quickchart {\n",
              "      --bg-color: #E8F0FE;\n",
              "      --fill-color: #1967D2;\n",
              "      --hover-bg-color: #E2EBFA;\n",
              "      --hover-fill-color: #174EA6;\n",
              "      --disabled-fill-color: #AAA;\n",
              "      --disabled-bg-color: #DDD;\n",
              "  }\n",
              "\n",
              "  [theme=dark] .colab-df-quickchart {\n",
              "      --bg-color: #3B4455;\n",
              "      --fill-color: #D2E3FC;\n",
              "      --hover-bg-color: #434B5C;\n",
              "      --hover-fill-color: #FFFFFF;\n",
              "      --disabled-bg-color: #3B4455;\n",
              "      --disabled-fill-color: #666;\n",
              "  }\n",
              "\n",
              "  .colab-df-quickchart {\n",
              "    background-color: var(--bg-color);\n",
              "    border: none;\n",
              "    border-radius: 50%;\n",
              "    cursor: pointer;\n",
              "    display: none;\n",
              "    fill: var(--fill-color);\n",
              "    height: 32px;\n",
              "    padding: 0;\n",
              "    width: 32px;\n",
              "  }\n",
              "\n",
              "  .colab-df-quickchart:hover {\n",
              "    background-color: var(--hover-bg-color);\n",
              "    box-shadow: 0 1px 2px rgba(60, 64, 67, 0.3), 0 1px 3px 1px rgba(60, 64, 67, 0.15);\n",
              "    fill: var(--button-hover-fill-color);\n",
              "  }\n",
              "\n",
              "  .colab-df-quickchart-complete:disabled,\n",
              "  .colab-df-quickchart-complete:disabled:hover {\n",
              "    background-color: var(--disabled-bg-color);\n",
              "    fill: var(--disabled-fill-color);\n",
              "    box-shadow: none;\n",
              "  }\n",
              "\n",
              "  .colab-df-spinner {\n",
              "    border: 2px solid var(--fill-color);\n",
              "    border-color: transparent;\n",
              "    border-bottom-color: var(--fill-color);\n",
              "    animation:\n",
              "      spin 1s steps(1) infinite;\n",
              "  }\n",
              "\n",
              "  @keyframes spin {\n",
              "    0% {\n",
              "      border-color: transparent;\n",
              "      border-bottom-color: var(--fill-color);\n",
              "      border-left-color: var(--fill-color);\n",
              "    }\n",
              "    20% {\n",
              "      border-color: transparent;\n",
              "      border-left-color: var(--fill-color);\n",
              "      border-top-color: var(--fill-color);\n",
              "    }\n",
              "    30% {\n",
              "      border-color: transparent;\n",
              "      border-left-color: var(--fill-color);\n",
              "      border-top-color: var(--fill-color);\n",
              "      border-right-color: var(--fill-color);\n",
              "    }\n",
              "    40% {\n",
              "      border-color: transparent;\n",
              "      border-right-color: var(--fill-color);\n",
              "      border-top-color: var(--fill-color);\n",
              "    }\n",
              "    60% {\n",
              "      border-color: transparent;\n",
              "      border-right-color: var(--fill-color);\n",
              "    }\n",
              "    80% {\n",
              "      border-color: transparent;\n",
              "      border-right-color: var(--fill-color);\n",
              "      border-bottom-color: var(--fill-color);\n",
              "    }\n",
              "    90% {\n",
              "      border-color: transparent;\n",
              "      border-bottom-color: var(--fill-color);\n",
              "    }\n",
              "  }\n",
              "</style>\n",
              "\n",
              "  <script>\n",
              "    async function quickchart(key) {\n",
              "      const quickchartButtonEl =\n",
              "        document.querySelector('#' + key + ' button');\n",
              "      quickchartButtonEl.disabled = true;  // To prevent multiple clicks.\n",
              "      quickchartButtonEl.classList.add('colab-df-spinner');\n",
              "      try {\n",
              "        const charts = await google.colab.kernel.invokeFunction(\n",
              "            'suggestCharts', [key], {});\n",
              "      } catch (error) {\n",
              "        console.error('Error during call to suggestCharts:', error);\n",
              "      }\n",
              "      quickchartButtonEl.classList.remove('colab-df-spinner');\n",
              "      quickchartButtonEl.classList.add('colab-df-quickchart-complete');\n",
              "    }\n",
              "    (() => {\n",
              "      let quickchartButtonEl =\n",
              "        document.querySelector('#df-e2bb0da6-0382-437a-863e-c6bf566f41a9 button');\n",
              "      quickchartButtonEl.style.display =\n",
              "        google.colab.kernel.accessAllowed ? 'block' : 'none';\n",
              "    })();\n",
              "  </script>\n",
              "</div>\n",
              "\n",
              "    </div>\n",
              "  </div>\n"
            ],
            "application/vnd.google.colaboratory.intrinsic+json": {
              "type": "dataframe",
              "variable_name": "churn_df"
            }
          },
          "metadata": {},
          "execution_count": 46
        }
      ],
      "source": [
        "# importando e explorando os dados\n",
        "churn_df = pd.read_csv(\"https://raw.githubusercontent.com/SampMark/files/refs/heads/main/ChurnData.csv\")\n",
        "\n",
        "# Imprime o número de linhas e colunas\n",
        "print(\"Número de linhas e colunas:\", churn_df.shape)\n",
        "\n",
        "# Imprime os nomes das colunas/variáveis\n",
        "print(\"Variáveis:\", churn_df.columns.tolist())\n",
        "churn_df.head()"
      ]
    },
    {
      "cell_type": "markdown",
      "metadata": {
        "id": "-rQtjh3XmSwH"
      },
      "source": [
        "O arquivo ChurnData.csv contém as seguintes variáveis:\n",
        "\n",
        "* `tenure`: Tempo de permanência do cliente.\n",
        "* `age`: Idade do cliente.\n",
        "* `address`: Número de endereços associados ao cliente.\n",
        "* `income`: Renda do cliente.\n",
        "* `ed`: Nível educacional do cliente.\n",
        "* `employ`: Tempo de emprego do cliente.\n",
        "* `equip`: Indica se o cliente possui equipamento específico.\n",
        "* `callcard`: Indica se o cliente possui cartão de chamadas.\n",
        "* `wireless`: Indica se o cliente possui serviço sem fio.\n",
        "* `longmon`: Gastos mensais com chamadas de longa distância.\n",
        "* `tollmon`: Gastos mensais com tarifas adicionais.\n",
        "* `equipmon`: Gastos mensais com equipamentos.\n",
        "* `cardmon`: Gastos mensais com cartão de chamadas.\n",
        "* `wiremon`: Gastos mensais com serviços sem fio.\n",
        "* `longten`: Gastos totais com chamadas de longa distância.\n",
        "* `tollten`: Gastos totais com tarifas adicionais.\n",
        "* `cardten`: Gastos totais com cartão de chamadas.\n",
        "* `voice`: Indica se o cliente possui serviço de correio de voz.\n",
        "* `pager`: Indica se o cliente possui pager.\n",
        "* `internet`: Indica se o cliente possui serviço de internet.\n",
        "* `callwait`: Indica se o cliente possui serviço de chamada em espera.\n",
        "* `confer`: Indica se o cliente possui serviço de conferência.\n",
        "* `ebill`: Indica se o cliente utiliza faturamento eletrônico.\n",
        "* `loglong`: Logaritmo dos gastos com chamadas de longa distância.\n",
        "* `logtoll`: Logaritmo dos gastos com tarifas adicionais.\n",
        "* `lninc`: Logaritmo da renda do cliente.\n",
        "* `custcat`: Categoria do cliente.\n",
        "* `churn`: total de clientes cancelados em determinado período de tempo (rotatividade de clientes)."
      ]
    },
    {
      "cell_type": "code",
      "execution_count": 51,
      "metadata": {
        "colab": {
          "base_uri": "https://localhost:8080/",
          "height": 206
        },
        "id": "8Gcjome_UDPM",
        "outputId": "5aacb6ef-6bf7-4855-d02b-fdb30cc95e05"
      },
      "outputs": [
        {
          "output_type": "execute_result",
          "data": {
            "text/plain": [
              "   tenure   age  address  income  income   ed  employ  equip  callcard  \\\n",
              "0    11.0  33.0      7.0   136.0   136.0  5.0     5.0    0.0       1.0   \n",
              "1    33.0  33.0     12.0    33.0    33.0  2.0     0.0    0.0       0.0   \n",
              "2    23.0  30.0      9.0    30.0    30.0  1.0     2.0    0.0       0.0   \n",
              "3    38.0  35.0      5.0    76.0    76.0  2.0    10.0    1.0       1.0   \n",
              "4     7.0  35.0     14.0    80.0    80.0  2.0    15.0    0.0       1.0   \n",
              "\n",
              "   wireless  income  income  custcat  churn  \n",
              "0       1.0   136.0   136.0      4.0    1.0  \n",
              "1       0.0    33.0    33.0      1.0    1.0  \n",
              "2       0.0    30.0    30.0      3.0    0.0  \n",
              "3       1.0    76.0    76.0      4.0    0.0  \n",
              "4       0.0    80.0    80.0      3.0    0.0  "
            ],
            "text/html": [
              "\n",
              "  <div id=\"df-01f9e945-3905-44d3-89a7-542a4fe44780\" class=\"colab-df-container\">\n",
              "    <div>\n",
              "<style scoped>\n",
              "    .dataframe tbody tr th:only-of-type {\n",
              "        vertical-align: middle;\n",
              "    }\n",
              "\n",
              "    .dataframe tbody tr th {\n",
              "        vertical-align: top;\n",
              "    }\n",
              "\n",
              "    .dataframe thead th {\n",
              "        text-align: right;\n",
              "    }\n",
              "</style>\n",
              "<table border=\"1\" class=\"dataframe\">\n",
              "  <thead>\n",
              "    <tr style=\"text-align: right;\">\n",
              "      <th></th>\n",
              "      <th>tenure</th>\n",
              "      <th>age</th>\n",
              "      <th>address</th>\n",
              "      <th>income</th>\n",
              "      <th>income</th>\n",
              "      <th>ed</th>\n",
              "      <th>employ</th>\n",
              "      <th>equip</th>\n",
              "      <th>callcard</th>\n",
              "      <th>wireless</th>\n",
              "      <th>income</th>\n",
              "      <th>income</th>\n",
              "      <th>custcat</th>\n",
              "      <th>churn</th>\n",
              "    </tr>\n",
              "  </thead>\n",
              "  <tbody>\n",
              "    <tr>\n",
              "      <th>0</th>\n",
              "      <td>11.0</td>\n",
              "      <td>33.0</td>\n",
              "      <td>7.0</td>\n",
              "      <td>136.0</td>\n",
              "      <td>136.0</td>\n",
              "      <td>5.0</td>\n",
              "      <td>5.0</td>\n",
              "      <td>0.0</td>\n",
              "      <td>1.0</td>\n",
              "      <td>1.0</td>\n",
              "      <td>136.0</td>\n",
              "      <td>136.0</td>\n",
              "      <td>4.0</td>\n",
              "      <td>1.0</td>\n",
              "    </tr>\n",
              "    <tr>\n",
              "      <th>1</th>\n",
              "      <td>33.0</td>\n",
              "      <td>33.0</td>\n",
              "      <td>12.0</td>\n",
              "      <td>33.0</td>\n",
              "      <td>33.0</td>\n",
              "      <td>2.0</td>\n",
              "      <td>0.0</td>\n",
              "      <td>0.0</td>\n",
              "      <td>0.0</td>\n",
              "      <td>0.0</td>\n",
              "      <td>33.0</td>\n",
              "      <td>33.0</td>\n",
              "      <td>1.0</td>\n",
              "      <td>1.0</td>\n",
              "    </tr>\n",
              "    <tr>\n",
              "      <th>2</th>\n",
              "      <td>23.0</td>\n",
              "      <td>30.0</td>\n",
              "      <td>9.0</td>\n",
              "      <td>30.0</td>\n",
              "      <td>30.0</td>\n",
              "      <td>1.0</td>\n",
              "      <td>2.0</td>\n",
              "      <td>0.0</td>\n",
              "      <td>0.0</td>\n",
              "      <td>0.0</td>\n",
              "      <td>30.0</td>\n",
              "      <td>30.0</td>\n",
              "      <td>3.0</td>\n",
              "      <td>0.0</td>\n",
              "    </tr>\n",
              "    <tr>\n",
              "      <th>3</th>\n",
              "      <td>38.0</td>\n",
              "      <td>35.0</td>\n",
              "      <td>5.0</td>\n",
              "      <td>76.0</td>\n",
              "      <td>76.0</td>\n",
              "      <td>2.0</td>\n",
              "      <td>10.0</td>\n",
              "      <td>1.0</td>\n",
              "      <td>1.0</td>\n",
              "      <td>1.0</td>\n",
              "      <td>76.0</td>\n",
              "      <td>76.0</td>\n",
              "      <td>4.0</td>\n",
              "      <td>0.0</td>\n",
              "    </tr>\n",
              "    <tr>\n",
              "      <th>4</th>\n",
              "      <td>7.0</td>\n",
              "      <td>35.0</td>\n",
              "      <td>14.0</td>\n",
              "      <td>80.0</td>\n",
              "      <td>80.0</td>\n",
              "      <td>2.0</td>\n",
              "      <td>15.0</td>\n",
              "      <td>0.0</td>\n",
              "      <td>1.0</td>\n",
              "      <td>0.0</td>\n",
              "      <td>80.0</td>\n",
              "      <td>80.0</td>\n",
              "      <td>3.0</td>\n",
              "      <td>0.0</td>\n",
              "    </tr>\n",
              "  </tbody>\n",
              "</table>\n",
              "</div>\n",
              "    <div class=\"colab-df-buttons\">\n",
              "\n",
              "  <div class=\"colab-df-container\">\n",
              "    <button class=\"colab-df-convert\" onclick=\"convertToInteractive('df-01f9e945-3905-44d3-89a7-542a4fe44780')\"\n",
              "            title=\"Convert this dataframe to an interactive table.\"\n",
              "            style=\"display:none;\">\n",
              "\n",
              "  <svg xmlns=\"http://www.w3.org/2000/svg\" height=\"24px\" viewBox=\"0 -960 960 960\">\n",
              "    <path d=\"M120-120v-720h720v720H120Zm60-500h600v-160H180v160Zm220 220h160v-160H400v160Zm0 220h160v-160H400v160ZM180-400h160v-160H180v160Zm440 0h160v-160H620v160ZM180-180h160v-160H180v160Zm440 0h160v-160H620v160Z\"/>\n",
              "  </svg>\n",
              "    </button>\n",
              "\n",
              "  <style>\n",
              "    .colab-df-container {\n",
              "      display:flex;\n",
              "      gap: 12px;\n",
              "    }\n",
              "\n",
              "    .colab-df-convert {\n",
              "      background-color: #E8F0FE;\n",
              "      border: none;\n",
              "      border-radius: 50%;\n",
              "      cursor: pointer;\n",
              "      display: none;\n",
              "      fill: #1967D2;\n",
              "      height: 32px;\n",
              "      padding: 0 0 0 0;\n",
              "      width: 32px;\n",
              "    }\n",
              "\n",
              "    .colab-df-convert:hover {\n",
              "      background-color: #E2EBFA;\n",
              "      box-shadow: 0px 1px 2px rgba(60, 64, 67, 0.3), 0px 1px 3px 1px rgba(60, 64, 67, 0.15);\n",
              "      fill: #174EA6;\n",
              "    }\n",
              "\n",
              "    .colab-df-buttons div {\n",
              "      margin-bottom: 4px;\n",
              "    }\n",
              "\n",
              "    [theme=dark] .colab-df-convert {\n",
              "      background-color: #3B4455;\n",
              "      fill: #D2E3FC;\n",
              "    }\n",
              "\n",
              "    [theme=dark] .colab-df-convert:hover {\n",
              "      background-color: #434B5C;\n",
              "      box-shadow: 0px 1px 3px 1px rgba(0, 0, 0, 0.15);\n",
              "      filter: drop-shadow(0px 1px 2px rgba(0, 0, 0, 0.3));\n",
              "      fill: #FFFFFF;\n",
              "    }\n",
              "  </style>\n",
              "\n",
              "    <script>\n",
              "      const buttonEl =\n",
              "        document.querySelector('#df-01f9e945-3905-44d3-89a7-542a4fe44780 button.colab-df-convert');\n",
              "      buttonEl.style.display =\n",
              "        google.colab.kernel.accessAllowed ? 'block' : 'none';\n",
              "\n",
              "      async function convertToInteractive(key) {\n",
              "        const element = document.querySelector('#df-01f9e945-3905-44d3-89a7-542a4fe44780');\n",
              "        const dataTable =\n",
              "          await google.colab.kernel.invokeFunction('convertToInteractive',\n",
              "                                                    [key], {});\n",
              "        if (!dataTable) return;\n",
              "\n",
              "        const docLinkHtml = 'Like what you see? Visit the ' +\n",
              "          '<a target=\"_blank\" href=https://colab.research.google.com/notebooks/data_table.ipynb>data table notebook</a>'\n",
              "          + ' to learn more about interactive tables.';\n",
              "        element.innerHTML = '';\n",
              "        dataTable['output_type'] = 'display_data';\n",
              "        await google.colab.output.renderOutput(dataTable, element);\n",
              "        const docLink = document.createElement('div');\n",
              "        docLink.innerHTML = docLinkHtml;\n",
              "        element.appendChild(docLink);\n",
              "      }\n",
              "    </script>\n",
              "  </div>\n",
              "\n",
              "\n",
              "<div id=\"df-c1ecf5d2-ca6e-44a5-9b14-d08cf9602b85\">\n",
              "  <button class=\"colab-df-quickchart\" onclick=\"quickchart('df-c1ecf5d2-ca6e-44a5-9b14-d08cf9602b85')\"\n",
              "            title=\"Suggest charts\"\n",
              "            style=\"display:none;\">\n",
              "\n",
              "<svg xmlns=\"http://www.w3.org/2000/svg\" height=\"24px\"viewBox=\"0 0 24 24\"\n",
              "     width=\"24px\">\n",
              "    <g>\n",
              "        <path d=\"M19 3H5c-1.1 0-2 .9-2 2v14c0 1.1.9 2 2 2h14c1.1 0 2-.9 2-2V5c0-1.1-.9-2-2-2zM9 17H7v-7h2v7zm4 0h-2V7h2v10zm4 0h-2v-4h2v4z\"/>\n",
              "    </g>\n",
              "</svg>\n",
              "  </button>\n",
              "\n",
              "<style>\n",
              "  .colab-df-quickchart {\n",
              "      --bg-color: #E8F0FE;\n",
              "      --fill-color: #1967D2;\n",
              "      --hover-bg-color: #E2EBFA;\n",
              "      --hover-fill-color: #174EA6;\n",
              "      --disabled-fill-color: #AAA;\n",
              "      --disabled-bg-color: #DDD;\n",
              "  }\n",
              "\n",
              "  [theme=dark] .colab-df-quickchart {\n",
              "      --bg-color: #3B4455;\n",
              "      --fill-color: #D2E3FC;\n",
              "      --hover-bg-color: #434B5C;\n",
              "      --hover-fill-color: #FFFFFF;\n",
              "      --disabled-bg-color: #3B4455;\n",
              "      --disabled-fill-color: #666;\n",
              "  }\n",
              "\n",
              "  .colab-df-quickchart {\n",
              "    background-color: var(--bg-color);\n",
              "    border: none;\n",
              "    border-radius: 50%;\n",
              "    cursor: pointer;\n",
              "    display: none;\n",
              "    fill: var(--fill-color);\n",
              "    height: 32px;\n",
              "    padding: 0;\n",
              "    width: 32px;\n",
              "  }\n",
              "\n",
              "  .colab-df-quickchart:hover {\n",
              "    background-color: var(--hover-bg-color);\n",
              "    box-shadow: 0 1px 2px rgba(60, 64, 67, 0.3), 0 1px 3px 1px rgba(60, 64, 67, 0.15);\n",
              "    fill: var(--button-hover-fill-color);\n",
              "  }\n",
              "\n",
              "  .colab-df-quickchart-complete:disabled,\n",
              "  .colab-df-quickchart-complete:disabled:hover {\n",
              "    background-color: var(--disabled-bg-color);\n",
              "    fill: var(--disabled-fill-color);\n",
              "    box-shadow: none;\n",
              "  }\n",
              "\n",
              "  .colab-df-spinner {\n",
              "    border: 2px solid var(--fill-color);\n",
              "    border-color: transparent;\n",
              "    border-bottom-color: var(--fill-color);\n",
              "    animation:\n",
              "      spin 1s steps(1) infinite;\n",
              "  }\n",
              "\n",
              "  @keyframes spin {\n",
              "    0% {\n",
              "      border-color: transparent;\n",
              "      border-bottom-color: var(--fill-color);\n",
              "      border-left-color: var(--fill-color);\n",
              "    }\n",
              "    20% {\n",
              "      border-color: transparent;\n",
              "      border-left-color: var(--fill-color);\n",
              "      border-top-color: var(--fill-color);\n",
              "    }\n",
              "    30% {\n",
              "      border-color: transparent;\n",
              "      border-left-color: var(--fill-color);\n",
              "      border-top-color: var(--fill-color);\n",
              "      border-right-color: var(--fill-color);\n",
              "    }\n",
              "    40% {\n",
              "      border-color: transparent;\n",
              "      border-right-color: var(--fill-color);\n",
              "      border-top-color: var(--fill-color);\n",
              "    }\n",
              "    60% {\n",
              "      border-color: transparent;\n",
              "      border-right-color: var(--fill-color);\n",
              "    }\n",
              "    80% {\n",
              "      border-color: transparent;\n",
              "      border-right-color: var(--fill-color);\n",
              "      border-bottom-color: var(--fill-color);\n",
              "    }\n",
              "    90% {\n",
              "      border-color: transparent;\n",
              "      border-bottom-color: var(--fill-color);\n",
              "    }\n",
              "  }\n",
              "</style>\n",
              "\n",
              "  <script>\n",
              "    async function quickchart(key) {\n",
              "      const quickchartButtonEl =\n",
              "        document.querySelector('#' + key + ' button');\n",
              "      quickchartButtonEl.disabled = true;  // To prevent multiple clicks.\n",
              "      quickchartButtonEl.classList.add('colab-df-spinner');\n",
              "      try {\n",
              "        const charts = await google.colab.kernel.invokeFunction(\n",
              "            'suggestCharts', [key], {});\n",
              "      } catch (error) {\n",
              "        console.error('Error during call to suggestCharts:', error);\n",
              "      }\n",
              "      quickchartButtonEl.classList.remove('colab-df-spinner');\n",
              "      quickchartButtonEl.classList.add('colab-df-quickchart-complete');\n",
              "    }\n",
              "    (() => {\n",
              "      let quickchartButtonEl =\n",
              "        document.querySelector('#df-c1ecf5d2-ca6e-44a5-9b14-d08cf9602b85 button');\n",
              "      quickchartButtonEl.style.display =\n",
              "        google.colab.kernel.accessAllowed ? 'block' : 'none';\n",
              "    })();\n",
              "  </script>\n",
              "</div>\n",
              "\n",
              "    </div>\n",
              "  </div>\n"
            ],
            "application/vnd.google.colaboratory.intrinsic+json": {
              "type": "dataframe",
              "variable_name": "churn_df",
              "summary": "{\n  \"name\": \"churn_df\",\n  \"rows\": 200,\n  \"fields\": [\n    {\n      \"column\": \"tenure\",\n      \"properties\": {\n        \"dtype\": \"number\",\n        \"std\": 21.640971169654776,\n        \"min\": 1.0,\n        \"max\": 72.0,\n        \"num_unique_values\": 68,\n        \"samples\": [\n          67.0,\n          52.0,\n          7.0\n        ],\n        \"semantic_type\": \"\",\n        \"description\": \"\"\n      }\n    },\n    {\n      \"column\": \"age\",\n      \"properties\": {\n        \"dtype\": \"number\",\n        \"std\": 13.076803468153965,\n        \"min\": 19.0,\n        \"max\": 76.0,\n        \"num_unique_values\": 51,\n        \"samples\": [\n          41.0,\n          32.0,\n          53.0\n        ],\n        \"semantic_type\": \"\",\n        \"description\": \"\"\n      }\n    },\n    {\n      \"column\": \"address\",\n      \"properties\": {\n        \"dtype\": \"number\",\n        \"std\": 10.158418545063164,\n        \"min\": 0.0,\n        \"max\": 48.0,\n        \"num_unique_values\": 40,\n        \"samples\": [\n          25.0,\n          13.0,\n          23.0\n        ],\n        \"semantic_type\": \"\",\n        \"description\": \"\"\n      }\n    },\n    {\n      \"column\": \"income\",\n      \"properties\": {\n        \"dtype\": \"number\",\n        \"std\": 128.43046766684935,\n        \"min\": 9.0,\n        \"max\": 1668.0,\n        \"num_unique_values\": 101,\n        \"samples\": [\n          72.0,\n          12.0,\n          60.0\n        ],\n        \"semantic_type\": \"\",\n        \"description\": \"\"\n      }\n    },\n    {\n      \"column\": \"income\",\n      \"properties\": {\n        \"dtype\": \"number\",\n        \"std\": 128.43046766684935,\n        \"min\": 9.0,\n        \"max\": 1668.0,\n        \"num_unique_values\": 101,\n        \"samples\": [\n          72.0,\n          12.0,\n          60.0\n        ],\n        \"semantic_type\": \"\",\n        \"description\": \"\"\n      }\n    },\n    {\n      \"column\": \"ed\",\n      \"properties\": {\n        \"dtype\": \"number\",\n        \"std\": 1.2855497621464422,\n        \"min\": 1.0,\n        \"max\": 5.0,\n        \"num_unique_values\": 5,\n        \"samples\": [\n          2.0,\n          3.0,\n          1.0\n        ],\n        \"semantic_type\": \"\",\n        \"description\": \"\"\n      }\n    },\n    {\n      \"column\": \"employ\",\n      \"properties\": {\n        \"dtype\": \"number\",\n        \"std\": 8.957430031198628,\n        \"min\": 0.0,\n        \"max\": 44.0,\n        \"num_unique_values\": 35,\n        \"samples\": [\n          27.0,\n          1.0,\n          17.0\n        ],\n        \"semantic_type\": \"\",\n        \"description\": \"\"\n      }\n    },\n    {\n      \"column\": \"equip\",\n      \"properties\": {\n        \"dtype\": \"number\",\n        \"std\": 0.4955835096887065,\n        \"min\": 0.0,\n        \"max\": 1.0,\n        \"num_unique_values\": 2,\n        \"samples\": [\n          1.0,\n          0.0\n        ],\n        \"semantic_type\": \"\",\n        \"description\": \"\"\n      }\n    },\n    {\n      \"column\": \"callcard\",\n      \"properties\": {\n        \"dtype\": \"number\",\n        \"std\": 0.45718716134917026,\n        \"min\": 0.0,\n        \"max\": 1.0,\n        \"num_unique_values\": 2,\n        \"samples\": [\n          0.0,\n          1.0\n        ],\n        \"semantic_type\": \"\",\n        \"description\": \"\"\n      }\n    },\n    {\n      \"column\": \"wireless\",\n      \"properties\": {\n        \"dtype\": \"number\",\n        \"std\": 0.4549007291342079,\n        \"min\": 0.0,\n        \"max\": 1.0,\n        \"num_unique_values\": 2,\n        \"samples\": [\n          0.0,\n          1.0\n        ],\n        \"semantic_type\": \"\",\n        \"description\": \"\"\n      }\n    },\n    {\n      \"column\": \"income\",\n      \"properties\": {\n        \"dtype\": \"number\",\n        \"std\": 128.43046766684935,\n        \"min\": 9.0,\n        \"max\": 1668.0,\n        \"num_unique_values\": 101,\n        \"samples\": [\n          72.0,\n          12.0\n        ],\n        \"semantic_type\": \"\",\n        \"description\": \"\"\n      }\n    },\n    {\n      \"column\": \"income\",\n      \"properties\": {\n        \"dtype\": \"number\",\n        \"std\": 128.43046766684935,\n        \"min\": 9.0,\n        \"max\": 1668.0,\n        \"num_unique_values\": 101,\n        \"samples\": [\n          72.0,\n          12.0\n        ],\n        \"semantic_type\": \"\",\n        \"description\": \"\"\n      }\n    },\n    {\n      \"column\": \"custcat\",\n      \"properties\": {\n        \"dtype\": \"number\",\n        \"std\": 1.0794447670099316,\n        \"min\": 1.0,\n        \"max\": 4.0,\n        \"num_unique_values\": 4,\n        \"samples\": [\n          1.0,\n          2.0\n        ],\n        \"semantic_type\": \"\",\n        \"description\": \"\"\n      }\n    },\n    {\n      \"column\": \"churn\",\n      \"properties\": {\n        \"dtype\": \"number\",\n        \"std\": 0.454900729134208,\n        \"min\": 0.0,\n        \"max\": 1.0,\n        \"num_unique_values\": 2,\n        \"samples\": [\n          0.0,\n          1.0\n        ],\n        \"semantic_type\": \"\",\n        \"description\": \"\"\n      }\n    }\n  ]\n}"
            }
          },
          "metadata": {},
          "execution_count": 51
        }
      ],
      "source": [
        "# Selecionando as variáveis de interesse\n",
        "churn_df = churn_df[['tenure', 'age', 'address', 'income', 'ed', 'employ', 'equip', 'callcard', 'wireless', 'income', 'custcat', 'churn']]\n",
        "# Convertendo a coluna 'churn' para o tipo inteiro\n",
        "churn_df.loc[:, 'churn'] = churn_df['churn'].astype('int')\n",
        "churn_df.head()"
      ]
    },
    {
      "cell_type": "code",
      "execution_count": 18,
      "metadata": {
        "colab": {
          "base_uri": "https://localhost:8080/"
        },
        "id": "GOlDj0plUTFv",
        "outputId": "f78cbffb-22f9-424e-b8f0-6a0e47f7640b"
      },
      "outputs": [
        {
          "output_type": "stream",
          "name": "stdout",
          "text": [
            "Colunas selecionadas: ['tenure', 'age', 'address', 'income', 'ed', 'employ', 'equip', 'callcard', 'wireless', 'churn']\n",
            "Número de linhas e colunas selecionadas: (200, 10)\n"
          ]
        }
      ],
      "source": [
        "# Checa os nomes das colunas selecionadas\n",
        "print(\"Colunas selecionadas:\", churn_df.columns.tolist())\n",
        "\n",
        "# Imprime o número de linhas e colunas selecionadas\n",
        "print(\"Número de linhas e colunas selecionadas:\", churn_df.shape)"
      ]
    },
    {
      "source": [
        "# @title Consumidores por idade vs Taxa de Cancelamento\n",
        "\n",
        "plt.figure(figsize=(10, 6))\n",
        "plt.hist([churn_df[churn_df['churn'] == 0]['age'], churn_df[churn_df['churn'] == 1]['age']],\n",
        "         bins=10, label=['Não Cancelado', 'Cancelado'], color=['blue', 'orange'], alpha=0.7)\n",
        "plt.xlabel('Idade')\n",
        "plt.ylabel('Número de Consumidores')\n",
        "plt.title('Distribuição de consumidores por idade versus taxa de cancelamento (rotatividade)')\n",
        "_ = plt.legend()"
      ],
      "cell_type": "code",
      "execution_count": 65,
      "outputs": [
        {
          "output_type": "display_data",
          "data": {
            "text/plain": [
              "<Figure size 1000x600 with 1 Axes>"
            ],
            "image/png": "[encoded data removed]"
          },
          "metadata": {}
        }
      ],
      "metadata": {
        "colab": {
          "base_uri": "https://localhost:8080/",
          "height": 564
        },
        "id": "iWjgsXeF1Yiu",
        "outputId": "dfd00008-3406-48aa-cc28-bf16863a52b7"
      }
    },
    {
      "source": [
        "# @title Duração no emprego vs Permanência\n",
        "\n",
        "churn_df.plot(kind='scatter', x='employ', y='tenure', s=32, alpha=.8)\n",
        "plt.gca().spines[['top', 'right',]].set_visible(False)\n",
        "plt.xlabel('Tempo no emprego')\n",
        "plt.ylabel('Tempo permanência do cliente')\n",
        "plt.title('Duração no emprego versus rotatividade de clientes')\n",
        "plt.show()"
      ],
      "cell_type": "code",
      "execution_count": 123,
      "outputs": [
        {
          "output_type": "display_data",
          "data": {
            "text/plain": [
              "<Figure size 640x480 with 1 Axes>"
            ],
            "image/png": "[encoded data removed]"
          },
          "metadata": {}
        }
      ],
      "metadata": {
        "colab": {
          "base_uri": "https://localhost:8080/",
          "height": 472
        },
        "id": "5fCRa9HwyKGq",
        "outputId": "565bb62c-476d-47ea-9e41-6f8341c1c53b"
      }
    },
    {
      "cell_type": "markdown",
      "source": [
        "## **Etapa de pré-processamento de dados**\n",
        "\n",
        "---\n",
        "\n",
        "**Por que o pré-processamento é necessário?**\n",
        "\n",
        "No aprendizado de máquina, a etapa de pré-processamento de dados é fundamental para garantir a qualidade e a eficácia dos modelos desenvolvidos. Uma das práticas essenciais nesse processo é a **padronização dos dados**, que envolve transformar as variáveis para que tenham média zero e desvio padrão igual a um.\n",
        "Além da padronização, existem outras técnicas como a **normalização**, **codificação de variáveis categóricas** e o **tratamento de valores faltantes**.\n",
        "\n",
        "1. **Melhorar a performance do modelo**: Algoritmos de aprendizado de máquina são sensíveis à escala das features. Quando as features têm escalas diferentes, aquelas com valores maiores podem dominar o processo de treinamento, levando a um modelo enviesado e com performance inferior. A padronização coloca todas as features na mesma escala, evitando problemas numéricos e permitindo que o algoritmo aprenda de forma mais eficaz.\n",
        "\n",
        "2. **Convergência mais rápida e estável em algoritmos de otimização**:  Em algoritmos que usam gradiente descendente (como regressão logística, redes neurais, etc.), sensíveis à escala das variáveis, a padronização ajuda a acelerar o processo de convergência, permitindo que o gradiente descendente convirja mais rapidamente quando as features estão na mesma escala. Quando as variáveis não são padronizadas, o processo de otimização pode se tornar ineficiente, resultando em uma convergência mais lenta ou até mesmo na incapacidade de encontrar o mínimo global da função de custo.\n",
        "\n",
        "3. **Facilita a interpretação dos coeficientes**:  Em modelos lineares como a regressão logística, os coeficientes representam a importância de cada variável dependente (*feature*). Quando as features são padronizadas, os coeficientes se tornam comparáveis, facilitando a interpretação sobre a importância relativa de cada feature.\n",
        "\n",
        "4. **Uniformização das Escalas das Variáveis**: Em conjuntos de dados, é comum que as variáveis apresentem diferentes escalas e unidades de medida. Por exemplo, enquanto a renda pode ser expressa em milhares de reais, a idade é medida em anos. Modelos de aprendizado de máquina que utilizam medidas de distância, como k-Nearest Neighbors (k-NN) ou algoritmos baseados em gradiente, podem atribuir maior importância a variáveis com maior magnitude, independentemente de sua relevância real. A padronização coloca todas as variáveis na mesma escala, evitando vieses indesejados.\n",
        "\n",
        "  * **Redução da Influência de Outliers**: Embora a padronização não elimine outliers, ela pode reduzir seu impacto relativo. Ao centralizar os dados em torno de uma média zero e normalizar a variância, os outliers se tornam menos proeminentes, permitindo que o modelo aprenda padrões mais representativos dos dados.\n",
        "\n",
        "**Padronização dos Dados**\n",
        "\n",
        "Conforme mencionado a padronização transforma os dados para que tenham média 0 e desvio padrão 1, de modo a preservar o padrão de distribuição original dos dados, centralizando e escalonando os valores. O cálculo é feito subtraindo-se a média e dividindo pelo desvio padrão de cada feature. A padronização é útil em algoritmos sensíveis à escala das features, como:\n",
        "\n",
        "* Regressão logística\n",
        "* Support Vector Machines (SVMs)\n",
        "* K-Nearest Neighbors (KNN)\n",
        "* Redes neurais\n",
        "* Principal Component Analysis (PCA)\n",
        "\n",
        "**Outras técnicas de pré-processamento:**\n",
        "\n",
        "* **Normalização**: Escala os dados para um intervalo específico, como [0, 1].\n",
        "* **Codificação de variáveis categóricas**: Converte variáveis categóricas em numéricas para que possam ser usadas pelos algoritmos.\n",
        "* **Tratamento de valores faltantes**: Preenche ou remove valores faltantes nos dados.\n",
        "\n",
        "\n",
        "\n",
        "\n",
        "---\n",
        "\n",
        "\n",
        "Aplicar as técnicas de pré-processamento de dados é essencial para estabilidade, eficiência e interpretabilidade dos modelos de aprendizado de máquina. Negligenciá-la pode resultar em modelos tendenciosos, com desempenho inferior e interpretações equivocadas.\n"
      ],
      "metadata": {
        "id": "VqkqnKDi8bOt"
      }
    },
    {
      "cell_type": "code",
      "source": [
        "# Convertendo as features (variáveis independentes) em um array NumPy\n",
        "X = np.asarray(churn_df[['tenure', 'age', 'address', 'income', 'ed', 'employ', 'equip']])\n",
        "\n",
        "# Exibindo as primeiras 5 linhas das features\n",
        "print(\"Variáveis independentes (X):\\n\", X[0:5])"
      ],
      "metadata": {
        "colab": {
          "base_uri": "https://localhost:8080/"
        },
        "id": "8YBUcQbH7G8b",
        "outputId": "3659040d-e687-4dea-dbc3-d671b134ce11"
      },
      "execution_count": 62,
      "outputs": [
        {
          "output_type": "stream",
          "name": "stdout",
          "text": [
            "Variáveis independentes (X):\n",
            " [[ 11.  33.   7. 136. 136. 136. 136.   5.   5.   0.]\n",
            " [ 33.  33.  12.  33.  33.  33.  33.   2.   0.   0.]\n",
            " [ 23.  30.   9.  30.  30.  30.  30.   1.   2.   0.]\n",
            " [ 38.  35.   5.  76.  76.  76.  76.   2.  10.   1.]\n",
            " [  7.  35.  14.  80.  80.  80.  80.   2.  15.   0.]]\n"
          ]
        }
      ]
    },
    {
      "cell_type": "code",
      "source": [
        "# Convertendo os rótulos (variável dependente) em um array NumPy\n",
        "y = np.asarray(churn_df['churn'])\n",
        "\n",
        "# Exibindo os primeiros 5 rótulos\n",
        "print(\"\\nRótulos (y):\\n\", y[0:5])"
      ],
      "metadata": {
        "colab": {
          "base_uri": "https://localhost:8080/"
        },
        "id": "r0HJBVy97W3k",
        "outputId": "899f0c62-0c28-42a4-c127-6bab4c47046b"
      },
      "execution_count": 63,
      "outputs": [
        {
          "output_type": "stream",
          "name": "stdout",
          "text": [
            "\n",
            "Rótulos (y):\n",
            " [1. 1. 0. 0. 0.]\n"
          ]
        }
      ]
    },
    {
      "cell_type": "code",
      "execution_count": 64,
      "metadata": {
        "colab": {
          "base_uri": "https://localhost:8080/"
        },
        "id": "VI7-wVX2VGaY",
        "outputId": "8446d101-20fe-400a-b8b8-e494946fa2e6"
      },
      "outputs": [
        {
          "output_type": "stream",
          "name": "stdout",
          "text": [
            "\n",
            "Features padronizadas (X):\n",
            " [[-1.13518441 -0.62595491 -0.4588971   0.4751423   0.4751423   0.4751423\n",
            "   0.4751423   1.6961288  -0.58477841 -0.85972695]\n",
            " [-0.11604313 -0.62595491  0.03454064 -0.32886061 -0.32886061 -0.32886061\n",
            "  -0.32886061 -0.6433592  -1.14437497 -0.85972695]\n",
            " [-0.57928917 -0.85594447 -0.261522   -0.35227817 -0.35227817 -0.35227817\n",
            "  -0.35227817 -1.42318853 -0.92053635 -0.85972695]\n",
            " [ 0.11557989 -0.47262854 -0.65627219  0.00679109  0.00679109  0.00679109\n",
            "   0.00679109 -0.6433592  -0.02518185  1.16316   ]\n",
            " [-1.32048283 -0.47262854  0.23191574  0.03801451  0.03801451  0.03801451\n",
            "   0.03801451 -0.6433592   0.53441472 -0.85972695]]\n"
          ]
        }
      ],
      "source": [
        "from sklearn import preprocessing\n",
        "# Padronizando as features (transformando para média 0 e desvio padrão 1)\n",
        "X = preprocessing.StandardScaler().fit(X).transform(X)\n",
        "\n",
        "# Exibindo as primeiras 5 linhas das features após a padronização\n",
        "print(\"\\nFeatures padronizadas (X):\\n\", X[0:5])"
      ]
    },
    {
      "cell_type": "markdown",
      "metadata": {
        "id": "rn0YPtalVM0X"
      },
      "source": [
        "## **Divisão dos dados em conjuntos de treinamento e teste**\n"
      ]
    },
    {
      "cell_type": "code",
      "execution_count": 71,
      "metadata": {
        "colab": {
          "base_uri": "https://localhost:8080/"
        },
        "id": "o96icaRBVOgl",
        "outputId": "d0fd3397-08c5-4ef8-fa60-86aa3ecaef95"
      },
      "outputs": [
        {
          "output_type": "stream",
          "name": "stdout",
          "text": [
            "Conjunto de Treinamento: (160, 10) (160,)\n",
            "Conjunto de Teste: (40, 10) (40,)\n"
          ]
        }
      ],
      "source": [
        "# Importando a função train_test_split do Scikit-learn\n",
        "from sklearn.model_selection import train_test_split\n",
        "\n",
        "# Dividindo os dados em conjuntos de treinamento e teste\n",
        "# 80% para treinamento e 20% para teste, com random_state=4 para reprodutibilidade\n",
        "X_train, X_test, y_train, y_test = train_test_split(X, y, test_size=0.2, random_state=4)\n",
        "\n",
        "# Exibindo o tamanho do conjunto de treinamento\n",
        "print('Conjunto de Treinamento:', X_train.shape, y_train.shape)\n",
        "\n",
        "# Exibindo o tamanho do conjunto de teste\n",
        "print('Conjunto de Teste:', X_test.shape, y_test.shape)"
      ]
    },
    {
      "cell_type": "markdown",
      "metadata": {
        "id": "6ARglUYIVVGV"
      },
      "source": [
        "## **Modelando uma Regressão Logística com Scikit-learn**\n",
        "\n",
        "---\n",
        "Para construir o modelo, começamos implementando a função `LogisticRegression` do pacote Scikit-learn, que possui diferentes otimizadores numéricos para encontrar parâmetros, tais como: `'newton-cg'`, `'lbfgs'`, `'liblinear'`, `'sag'`, `'saga'`.\n",
        "\n",
        "A versão da Regressão Logística no Scikit-learn suporta regularização, esta é uma técnica usada para resolver o problema de *overfitting* em modelos de aprendizado de máquina. O parâmetro C indica o inverso da força de regularização, que deve ser um float positivo. Valores menores especificam uma regularização mais forte. Em seuida, ajusta-se o modelo com o conjunto de treinamento.\n",
        "\n",
        "* `LogisticRegression(C=0.01, solver='liblinear')`: Cria o objeto `LogisticRegression` com os seguintes parâmetros:\n",
        "\n",
        "  * `C=0.01`: Parâmetro de regularização, que ajuda a prevenir o *overfitting*, valores menores especificam uma regularização mais forte.\n",
        "\n",
        "  * `solver='liblinear'`: Especifica o parâmetro de otimização `'liblinear'`, boa opção para conjuntos de dados pequenos e médios.\n",
        "\n",
        "* `.fit(X_train,y_train)`: Treina o modelo de regressão logística usando os dados de treinamento `X_train` (*features*) e `y_train` (rótulos)."
      ]
    },
    {
      "cell_type": "code",
      "execution_count": 105,
      "metadata": {
        "colab": {
          "base_uri": "https://localhost:8080/",
          "height": 80
        },
        "id": "XRw1CTnnVXgo",
        "outputId": "b7288078-816d-4c42-ea74-db3787cd2a46"
      },
      "outputs": [
        {
          "output_type": "execute_result",
          "data": {
            "text/plain": [
              "LogisticRegression(C=0.01, solver='liblinear')"
            ],
            "text/html": [
              "<style>#sk-container-id-4 {\n",
              "  /* Definition of color scheme common for light and dark mode */\n",
              "  --sklearn-color-text: black;\n",
              "  --sklearn-color-line: gray;\n",
              "  /* Definition of color scheme for unfitted estimators */\n",
              "  --sklearn-color-unfitted-level-0: #fff5e6;\n",
              "  --sklearn-color-unfitted-level-1: #f6e4d2;\n",
              "  --sklearn-color-unfitted-level-2: #ffe0b3;\n",
              "  --sklearn-color-unfitted-level-3: chocolate;\n",
              "  /* Definition of color scheme for fitted estimators */\n",
              "  --sklearn-color-fitted-level-0: #f0f8ff;\n",
              "  --sklearn-color-fitted-level-1: #d4ebff;\n",
              "  --sklearn-color-fitted-level-2: #b3dbfd;\n",
              "  --sklearn-color-fitted-level-3: cornflowerblue;\n",
              "\n",
              "  /* Specific color for light theme */\n",
              "  --sklearn-color-text-on-default-background: var(--sg-text-color, var(--theme-code-foreground, var(--jp-content-font-color1, black)));\n",
              "  --sklearn-color-background: var(--sg-background-color, var(--theme-background, var(--jp-layout-color0, white)));\n",
              "  --sklearn-color-border-box: var(--sg-text-color, var(--theme-code-foreground, var(--jp-content-font-color1, black)));\n",
              "  --sklearn-color-icon: #696969;\n",
              "\n",
              "  @media (prefers-color-scheme: dark) {\n",
              "    /* Redefinition of color scheme for dark theme */\n",
              "    --sklearn-color-text-on-default-background: var(--sg-text-color, var(--theme-code-foreground, var(--jp-content-font-color1, white)));\n",
              "    --sklearn-color-background: var(--sg-background-color, var(--theme-background, var(--jp-layout-color0, #111)));\n",
              "    --sklearn-color-border-box: var(--sg-text-color, var(--theme-code-foreground, var(--jp-content-font-color1, white)));\n",
              "    --sklearn-color-icon: #878787;\n",
              "  }\n",
              "}\n",
              "\n",
              "#sk-container-id-4 {\n",
              "  color: var(--sklearn-color-text);\n",
              "}\n",
              "\n",
              "#sk-container-id-4 pre {\n",
              "  padding: 0;\n",
              "}\n",
              "\n",
              "#sk-container-id-4 input.sk-hidden--visually {\n",
              "  border: 0;\n",
              "  clip: rect(1px 1px 1px 1px);\n",
              "  clip: rect(1px, 1px, 1px, 1px);\n",
              "  height: 1px;\n",
              "  margin: -1px;\n",
              "  overflow: hidden;\n",
              "  padding: 0;\n",
              "  position: absolute;\n",
              "  width: 1px;\n",
              "}\n",
              "\n",
              "#sk-container-id-4 div.sk-dashed-wrapped {\n",
              "  border: 1px dashed var(--sklearn-color-line);\n",
              "  margin: 0 0.4em 0.5em 0.4em;\n",
              "  box-sizing: border-box;\n",
              "  padding-bottom: 0.4em;\n",
              "  background-color: var(--sklearn-color-background);\n",
              "}\n",
              "\n",
              "#sk-container-id-4 div.sk-container {\n",
              "  /* jupyter's `normalize.less` sets `[hidden] { display: none; }`\n",
              "     but bootstrap.min.css set `[hidden] { display: none !important; }`\n",
              "     so we also need the `!important` here to be able to override the\n",
              "     default hidden behavior on the sphinx rendered scikit-learn.org.\n",
              "     See: https://github.com/scikit-learn/scikit-learn/issues/21755 */\n",
              "  display: inline-block !important;\n",
              "  position: relative;\n",
              "}\n",
              "\n",
              "#sk-container-id-4 div.sk-text-repr-fallback {\n",
              "  display: none;\n",
              "}\n",
              "\n",
              "div.sk-parallel-item,\n",
              "div.sk-serial,\n",
              "div.sk-item {\n",
              "  /* draw centered vertical line to link estimators */\n",
              "  background-image: linear-gradient(var(--sklearn-color-text-on-default-background), var(--sklearn-color-text-on-default-background));\n",
              "  background-size: 2px 100%;\n",
              "  background-repeat: no-repeat;\n",
              "  background-position: center center;\n",
              "}\n",
              "\n",
              "/* Parallel-specific style estimator block */\n",
              "\n",
              "#sk-container-id-4 div.sk-parallel-item::after {\n",
              "  content: \"\";\n",
              "  width: 100%;\n",
              "  border-bottom: 2px solid var(--sklearn-color-text-on-default-background);\n",
              "  flex-grow: 1;\n",
              "}\n",
              "\n",
              "#sk-container-id-4 div.sk-parallel {\n",
              "  display: flex;\n",
              "  align-items: stretch;\n",
              "  justify-content: center;\n",
              "  background-color: var(--sklearn-color-background);\n",
              "  position: relative;\n",
              "}\n",
              "\n",
              "#sk-container-id-4 div.sk-parallel-item {\n",
              "  display: flex;\n",
              "  flex-direction: column;\n",
              "}\n",
              "\n",
              "#sk-container-id-4 div.sk-parallel-item:first-child::after {\n",
              "  align-self: flex-end;\n",
              "  width: 50%;\n",
              "}\n",
              "\n",
              "#sk-container-id-4 div.sk-parallel-item:last-child::after {\n",
              "  align-self: flex-start;\n",
              "  width: 50%;\n",
              "}\n",
              "\n",
              "#sk-container-id-4 div.sk-parallel-item:only-child::after {\n",
              "  width: 0;\n",
              "}\n",
              "\n",
              "/* Serial-specific style estimator block */\n",
              "\n",
              "#sk-container-id-4 div.sk-serial {\n",
              "  display: flex;\n",
              "  flex-direction: column;\n",
              "  align-items: center;\n",
              "  background-color: var(--sklearn-color-background);\n",
              "  padding-right: 1em;\n",
              "  padding-left: 1em;\n",
              "}\n",
              "\n",
              "\n",
              "/* Toggleable style: style used for estimator/Pipeline/ColumnTransformer box that is\n",
              "clickable and can be expanded/collapsed.\n",
              "- Pipeline and ColumnTransformer use this feature and define the default style\n",
              "- Estimators will overwrite some part of the style using the `sk-estimator` class\n",
              "*/\n",
              "\n",
              "/* Pipeline and ColumnTransformer style (default) */\n",
              "\n",
              "#sk-container-id-4 div.sk-toggleable {\n",
              "  /* Default theme specific background. It is overwritten whether we have a\n",
              "  specific estimator or a Pipeline/ColumnTransformer */\n",
              "  background-color: var(--sklearn-color-background);\n",
              "}\n",
              "\n",
              "/* Toggleable label */\n",
              "#sk-container-id-4 label.sk-toggleable__label {\n",
              "  cursor: pointer;\n",
              "  display: block;\n",
              "  width: 100%;\n",
              "  margin-bottom: 0;\n",
              "  padding: 0.5em;\n",
              "  box-sizing: border-box;\n",
              "  text-align: center;\n",
              "}\n",
              "\n",
              "#sk-container-id-4 label.sk-toggleable__label-arrow:before {\n",
              "  /* Arrow on the left of the label */\n",
              "  content: \"▸\";\n",
              "  float: left;\n",
              "  margin-right: 0.25em;\n",
              "  color: var(--sklearn-color-icon);\n",
              "}\n",
              "\n",
              "#sk-container-id-4 label.sk-toggleable__label-arrow:hover:before {\n",
              "  color: var(--sklearn-color-text);\n",
              "}\n",
              "\n",
              "/* Toggleable content - dropdown */\n",
              "\n",
              "#sk-container-id-4 div.sk-toggleable__content {\n",
              "  max-height: 0;\n",
              "  max-width: 0;\n",
              "  overflow: hidden;\n",
              "  text-align: left;\n",
              "  /* unfitted */\n",
              "  background-color: var(--sklearn-color-unfitted-level-0);\n",
              "}\n",
              "\n",
              "#sk-container-id-4 div.sk-toggleable__content.fitted {\n",
              "  /* fitted */\n",
              "  background-color: var(--sklearn-color-fitted-level-0);\n",
              "}\n",
              "\n",
              "#sk-container-id-4 div.sk-toggleable__content pre {\n",
              "  margin: 0.2em;\n",
              "  border-radius: 0.25em;\n",
              "  color: var(--sklearn-color-text);\n",
              "  /* unfitted */\n",
              "  background-color: var(--sklearn-color-unfitted-level-0);\n",
              "}\n",
              "\n",
              "#sk-container-id-4 div.sk-toggleable__content.fitted pre {\n",
              "  /* unfitted */\n",
              "  background-color: var(--sklearn-color-fitted-level-0);\n",
              "}\n",
              "\n",
              "#sk-container-id-4 input.sk-toggleable__control:checked~div.sk-toggleable__content {\n",
              "  /* Expand drop-down */\n",
              "  max-height: 200px;\n",
              "  max-width: 100%;\n",
              "  overflow: auto;\n",
              "}\n",
              "\n",
              "#sk-container-id-4 input.sk-toggleable__control:checked~label.sk-toggleable__label-arrow:before {\n",
              "  content: \"▾\";\n",
              "}\n",
              "\n",
              "/* Pipeline/ColumnTransformer-specific style */\n",
              "\n",
              "#sk-container-id-4 div.sk-label input.sk-toggleable__control:checked~label.sk-toggleable__label {\n",
              "  color: var(--sklearn-color-text);\n",
              "  background-color: var(--sklearn-color-unfitted-level-2);\n",
              "}\n",
              "\n",
              "#sk-container-id-4 div.sk-label.fitted input.sk-toggleable__control:checked~label.sk-toggleable__label {\n",
              "  background-color: var(--sklearn-color-fitted-level-2);\n",
              "}\n",
              "\n",
              "/* Estimator-specific style */\n",
              "\n",
              "/* Colorize estimator box */\n",
              "#sk-container-id-4 div.sk-estimator input.sk-toggleable__control:checked~label.sk-toggleable__label {\n",
              "  /* unfitted */\n",
              "  background-color: var(--sklearn-color-unfitted-level-2);\n",
              "}\n",
              "\n",
              "#sk-container-id-4 div.sk-estimator.fitted input.sk-toggleable__control:checked~label.sk-toggleable__label {\n",
              "  /* fitted */\n",
              "  background-color: var(--sklearn-color-fitted-level-2);\n",
              "}\n",
              "\n",
              "#sk-container-id-4 div.sk-label label.sk-toggleable__label,\n",
              "#sk-container-id-4 div.sk-label label {\n",
              "  /* The background is the default theme color */\n",
              "  color: var(--sklearn-color-text-on-default-background);\n",
              "}\n",
              "\n",
              "/* On hover, darken the color of the background */\n",
              "#sk-container-id-4 div.sk-label:hover label.sk-toggleable__label {\n",
              "  color: var(--sklearn-color-text);\n",
              "  background-color: var(--sklearn-color-unfitted-level-2);\n",
              "}\n",
              "\n",
              "/* Label box, darken color on hover, fitted */\n",
              "#sk-container-id-4 div.sk-label.fitted:hover label.sk-toggleable__label.fitted {\n",
              "  color: var(--sklearn-color-text);\n",
              "  background-color: var(--sklearn-color-fitted-level-2);\n",
              "}\n",
              "\n",
              "/* Estimator label */\n",
              "\n",
              "#sk-container-id-4 div.sk-label label {\n",
              "  font-family: monospace;\n",
              "  font-weight: bold;\n",
              "  display: inline-block;\n",
              "  line-height: 1.2em;\n",
              "}\n",
              "\n",
              "#sk-container-id-4 div.sk-label-container {\n",
              "  text-align: center;\n",
              "}\n",
              "\n",
              "/* Estimator-specific */\n",
              "#sk-container-id-4 div.sk-estimator {\n",
              "  font-family: monospace;\n",
              "  border: 1px dotted var(--sklearn-color-border-box);\n",
              "  border-radius: 0.25em;\n",
              "  box-sizing: border-box;\n",
              "  margin-bottom: 0.5em;\n",
              "  /* unfitted */\n",
              "  background-color: var(--sklearn-color-unfitted-level-0);\n",
              "}\n",
              "\n",
              "#sk-container-id-4 div.sk-estimator.fitted {\n",
              "  /* fitted */\n",
              "  background-color: var(--sklearn-color-fitted-level-0);\n",
              "}\n",
              "\n",
              "/* on hover */\n",
              "#sk-container-id-4 div.sk-estimator:hover {\n",
              "  /* unfitted */\n",
              "  background-color: var(--sklearn-color-unfitted-level-2);\n",
              "}\n",
              "\n",
              "#sk-container-id-4 div.sk-estimator.fitted:hover {\n",
              "  /* fitted */\n",
              "  background-color: var(--sklearn-color-fitted-level-2);\n",
              "}\n",
              "\n",
              "/* Specification for estimator info (e.g. \"i\" and \"?\") */\n",
              "\n",
              "/* Common style for \"i\" and \"?\" */\n",
              "\n",
              ".sk-estimator-doc-link,\n",
              "a:link.sk-estimator-doc-link,\n",
              "a:visited.sk-estimator-doc-link {\n",
              "  float: right;\n",
              "  font-size: smaller;\n",
              "  line-height: 1em;\n",
              "  font-family: monospace;\n",
              "  background-color: var(--sklearn-color-background);\n",
              "  border-radius: 1em;\n",
              "  height: 1em;\n",
              "  width: 1em;\n",
              "  text-decoration: none !important;\n",
              "  margin-left: 1ex;\n",
              "  /* unfitted */\n",
              "  border: var(--sklearn-color-unfitted-level-1) 1pt solid;\n",
              "  color: var(--sklearn-color-unfitted-level-1);\n",
              "}\n",
              "\n",
              ".sk-estimator-doc-link.fitted,\n",
              "a:link.sk-estimator-doc-link.fitted,\n",
              "a:visited.sk-estimator-doc-link.fitted {\n",
              "  /* fitted */\n",
              "  border: var(--sklearn-color-fitted-level-1) 1pt solid;\n",
              "  color: var(--sklearn-color-fitted-level-1);\n",
              "}\n",
              "\n",
              "/* On hover */\n",
              "div.sk-estimator:hover .sk-estimator-doc-link:hover,\n",
              ".sk-estimator-doc-link:hover,\n",
              "div.sk-label-container:hover .sk-estimator-doc-link:hover,\n",
              ".sk-estimator-doc-link:hover {\n",
              "  /* unfitted */\n",
              "  background-color: var(--sklearn-color-unfitted-level-3);\n",
              "  color: var(--sklearn-color-background);\n",
              "  text-decoration: none;\n",
              "}\n",
              "\n",
              "div.sk-estimator.fitted:hover .sk-estimator-doc-link.fitted:hover,\n",
              ".sk-estimator-doc-link.fitted:hover,\n",
              "div.sk-label-container:hover .sk-estimator-doc-link.fitted:hover,\n",
              ".sk-estimator-doc-link.fitted:hover {\n",
              "  /* fitted */\n",
              "  background-color: var(--sklearn-color-fitted-level-3);\n",
              "  color: var(--sklearn-color-background);\n",
              "  text-decoration: none;\n",
              "}\n",
              "\n",
              "/* Span, style for the box shown on hovering the info icon */\n",
              ".sk-estimator-doc-link span {\n",
              "  display: none;\n",
              "  z-index: 9999;\n",
              "  position: relative;\n",
              "  font-weight: normal;\n",
              "  right: .2ex;\n",
              "  padding: .5ex;\n",
              "  margin: .5ex;\n",
              "  width: min-content;\n",
              "  min-width: 20ex;\n",
              "  max-width: 50ex;\n",
              "  color: var(--sklearn-color-text);\n",
              "  box-shadow: 2pt 2pt 4pt #999;\n",
              "  /* unfitted */\n",
              "  background: var(--sklearn-color-unfitted-level-0);\n",
              "  border: .5pt solid var(--sklearn-color-unfitted-level-3);\n",
              "}\n",
              "\n",
              ".sk-estimator-doc-link.fitted span {\n",
              "  /* fitted */\n",
              "  background: var(--sklearn-color-fitted-level-0);\n",
              "  border: var(--sklearn-color-fitted-level-3);\n",
              "}\n",
              "\n",
              ".sk-estimator-doc-link:hover span {\n",
              "  display: block;\n",
              "}\n",
              "\n",
              "/* \"?\"-specific style due to the `<a>` HTML tag */\n",
              "\n",
              "#sk-container-id-4 a.estimator_doc_link {\n",
              "  float: right;\n",
              "  font-size: 1rem;\n",
              "  line-height: 1em;\n",
              "  font-family: monospace;\n",
              "  background-color: var(--sklearn-color-background);\n",
              "  border-radius: 1rem;\n",
              "  height: 1rem;\n",
              "  width: 1rem;\n",
              "  text-decoration: none;\n",
              "  /* unfitted */\n",
              "  color: var(--sklearn-color-unfitted-level-1);\n",
              "  border: var(--sklearn-color-unfitted-level-1) 1pt solid;\n",
              "}\n",
              "\n",
              "#sk-container-id-4 a.estimator_doc_link.fitted {\n",
              "  /* fitted */\n",
              "  border: var(--sklearn-color-fitted-level-1) 1pt solid;\n",
              "  color: var(--sklearn-color-fitted-level-1);\n",
              "}\n",
              "\n",
              "/* On hover */\n",
              "#sk-container-id-4 a.estimator_doc_link:hover {\n",
              "  /* unfitted */\n",
              "  background-color: var(--sklearn-color-unfitted-level-3);\n",
              "  color: var(--sklearn-color-background);\n",
              "  text-decoration: none;\n",
              "}\n",
              "\n",
              "#sk-container-id-4 a.estimator_doc_link.fitted:hover {\n",
              "  /* fitted */\n",
              "  background-color: var(--sklearn-color-fitted-level-3);\n",
              "}\n",
              "</style><div id=\"sk-container-id-4\" class=\"sk-top-container\"><div class=\"sk-text-repr-fallback\"><pre>LogisticRegression(C=0.01, solver=&#x27;liblinear&#x27;)</pre><b>In a Jupyter environment, please rerun this cell to show the HTML representation or trust the notebook. <br />On GitHub, the HTML representation is unable to render, please try loading this page with nbviewer.org.</b></div><div class=\"sk-container\" hidden><div class=\"sk-item\"><div class=\"sk-estimator fitted sk-toggleable\"><input class=\"sk-toggleable__control sk-hidden--visually\" id=\"sk-estimator-id-4\" type=\"checkbox\" checked><label for=\"sk-estimator-id-4\" class=\"sk-toggleable__label fitted sk-toggleable__label-arrow fitted\">&nbsp;&nbsp;LogisticRegression<a class=\"sk-estimator-doc-link fitted\" rel=\"noreferrer\" target=\"_blank\" href=\"https://scikit-learn.org/1.5/modules/generated/sklearn.linear_model.LogisticRegression.html\">?<span>Documentation for LogisticRegression</span></a><span class=\"sk-estimator-doc-link fitted\">i<span>Fitted</span></span></label><div class=\"sk-toggleable__content fitted\"><pre>LogisticRegression(C=0.01, solver=&#x27;liblinear&#x27;)</pre></div> </div></div></div></div>"
            ]
          },
          "metadata": {},
          "execution_count": 105
        }
      ],
      "source": [
        "# Importa a classe LogisticRegression da biblioteca Scikit-learn\n",
        "from sklearn.linear_model import LogisticRegression\n",
        "\n",
        "LR = LogisticRegression(C=0.01, solver='liblinear').fit(X_train,y_train)\n",
        "LR # Exibe o modelo de regressão logística treinado e mostra os parâmetros escolhidos"
      ]
    },
    {
      "cell_type": "markdown",
      "source": [
        "### **Visão geral dos otimizadores**\n",
        "Cada otimizador tem suas características, vantagens e desvantagens, tornando a escolha do otimizador um passo importante no processo de modelagem.\n",
        "\n",
        "1. `newton-cg`: **Método de Newton com Conjugate Gradient**:\n",
        "  * Adequado para problemas de pequena a média escala com features densas.\n",
        "  Requer o cálculo da Hessiana (matriz de derivadas segundas), o que pode ser computacionalmente caro para conjuntos de dados grandes.\n",
        "\n",
        "2. `lbfgs`: **Limited-memory Broyden–Fletcher–Goldfarb–Shanno**:\n",
        "  * Método Quasi-Newton que aproxima a Hessiana. É eficiente em termos de memória, tornando-o adequado para problemas de grande escala, mas pode ser mais lento que `'newton-cg'` em alguns casos.\n",
        "\n",
        "3. `liblinear`: **Utiliza a biblioteca LIBLINEAR**:\n",
        "  * Adequado para problemas de grande escala com features esparsas.\n",
        "  Suporta apenas regularização L1 e L2. Pode ser mais rápido que `'newton-cg'` e `'lbfgs'` para dados esparsos.\n",
        "\n",
        "4. `sag`: **Stochastic Average Gradient descent**:\n",
        "  * Método de gradiente descendente estocástico que usa uma média dos gradientes.\n",
        "  Adequado para problemas de grande escala com features densas. Converge mais rápido que o gradiente descendente estocástico padrão.\n",
        "\n",
        "5. `saga`: **Variante do 'sag' que suporta regularização L1**:\n",
        "  * Combina as vantagens do 'sag' com a capacidade de lidar com regularização L1."
      ],
      "metadata": {
        "id": "MpphKD9RGaeB"
      }
    },
    {
      "cell_type": "code",
      "execution_count": 77,
      "metadata": {
        "colab": {
          "base_uri": "https://localhost:8080/"
        },
        "id": "q38HDQirVszB",
        "outputId": "12294436-dcce-4858-e40f-f925e953428e"
      },
      "outputs": [
        {
          "output_type": "stream",
          "name": "stdout",
          "text": [
            "Previsões (yhat): [0. 0. 0. 0. 0. 0. 0. 0. 1. 0. 0. 0. 1. 1. 0. 0. 0. 1. 1. 0. 0. 0. 0. 0.\n",
            " 0. 0. 0. 0. 0. 0. 0. 0. 1. 0. 0. 0. 1. 0. 0. 0.]\n"
          ]
        }
      ],
      "source": [
        "# Usa o modelo de regressão logística treinado LR para fazer previsões nos dados de teste X_test\n",
        "yhat = LR.predict(X_test)\n",
        "yhat # Armazena as previsões geradas pelo modelo\n",
        "# Exibindo as previsões\n",
        "print(\"Previsões (yhat):\", yhat)"
      ]
    },
    {
      "cell_type": "markdown",
      "source": [
        "* `yhat` é um array contendo as classes previstas (0 ou 1) para cada amostra no conjunto de teste.\n",
        "\n",
        "\n",
        "---\n",
        "\n",
        "* `predizer_proba` retorna estimativas para todas as classes, ordenadas pelo rótulo das classes. Portanto, a primeira coluna é a probabilidade da `classe 0`, P(Y=0|X), e a segunda coluna é a probabilidade da `classe `1, P(Y=1|X):"
      ],
      "metadata": {
        "id": "3bBlJXPXLpGf"
      }
    },
    {
      "cell_type": "code",
      "execution_count": 79,
      "metadata": {
        "colab": {
          "base_uri": "https://localhost:8080/"
        },
        "id": "OtbiD_93VxZe",
        "outputId": "56ddf0fa-a049-4b5b-8dff-d20e18b9e812"
      },
      "outputs": [
        {
          "output_type": "stream",
          "name": "stdout",
          "text": [
            "Probabilidades (yhat_prob):\n",
            " [[0.54341504 0.45658496]\n",
            " [0.60605901 0.39394099]\n",
            " [0.56109377 0.43890623]\n",
            " [0.63583688 0.36416312]\n",
            " [0.56326336 0.43673664]\n",
            " [0.55319206 0.44680794]\n",
            " [0.52196501 0.47803499]\n",
            " [0.60373312 0.39626688]\n",
            " [0.40928918 0.59071082]\n",
            " [0.63207988 0.36792012]\n",
            " [0.58212024 0.41787976]\n",
            " [0.63211043 0.36788957]\n",
            " [0.47461064 0.52538936]\n",
            " [0.42455698 0.57544302]\n",
            " [0.66046238 0.33953762]\n",
            " [0.55002811 0.44997189]\n",
            " [0.5164954  0.4835046 ]\n",
            " [0.48473034 0.51526966]\n",
            " [0.48904711 0.51095289]\n",
            " [0.52204537 0.47795463]\n",
            " [0.61497219 0.38502781]\n",
            " [0.52493835 0.47506165]\n",
            " [0.63867398 0.36132602]\n",
            " [0.52093508 0.47906492]\n",
            " [0.50741434 0.49258566]\n",
            " [0.70476794 0.29523206]\n",
            " [0.56065001 0.43934999]\n",
            " [0.52132975 0.47867025]\n",
            " [0.51523421 0.48476579]\n",
            " [0.72077758 0.27922242]\n",
            " [0.67591405 0.32408595]\n",
            " [0.50978046 0.49021954]\n",
            " [0.42362683 0.57637317]\n",
            " [0.71698663 0.28301337]\n",
            " [0.59714599 0.40285401]\n",
            " [0.63607667 0.36392333]\n",
            " [0.4029295  0.5970705 ]\n",
            " [0.52120939 0.47879061]\n",
            " [0.65884179 0.34115821]\n",
            " [0.509909   0.490091  ]]\n"
          ]
        }
      ],
      "source": [
        "# Calculando a probabilidade de cada classe para as amostras no conjunto de teste\n",
        "yhat_prob = LR.predict_proba(X_test)\n",
        "yhat_prob # Probabilidades calculadas para cada classe\n",
        "\n",
        "# Exibindo as probabilidades\n",
        "print(\"Probabilidades (yhat_prob):\\n\", yhat_prob)"
      ]
    },
    {
      "cell_type": "markdown",
      "metadata": {
        "id": "M18Ya0vJXLzT"
      },
      "source": [
        "## **Avaliação do Modelo**\n",
        "\n",
        "### **Índice Jaccard**\n",
        "\n",
        "O índice Jaccard pode ser utilizado para a avaliação da precisão do modelo. Podemos definir Jaccard como o tamanho da intersecção dividido pelo tamanho da união dos dois conjuntos de rótulos. Se o conjunto inteiro de rótulos previstos para uma amostra corresponder estritamente ao conjunto verdadeiro de rótulos, então a precisão do subconjunto é 1.0; caso contrário, é 0.0."
      ]
    },
    {
      "cell_type": "code",
      "execution_count": 118,
      "metadata": {
        "colab": {
          "base_uri": "https://localhost:8080/"
        },
        "id": "blBqXOUfXMEb",
        "outputId": "37fe202a-151f-4fb4-f7d1-d8c133f3302a"
      },
      "outputs": [
        {
          "output_type": "execute_result",
          "data": {
            "text/plain": [
              "0.7058823529411765"
            ]
          },
          "metadata": {},
          "execution_count": 118
        }
      ],
      "source": [
        "from sklearn.metrics import jaccard_score\n",
        "jaccard_score(y_test, yhat,pos_label=0)"
      ]
    },
    {
      "cell_type": "markdown",
      "metadata": {
        "id": "r0Z66FHNXzRo"
      },
      "source": [
        "**Análise do Resultado:**\n",
        "\n",
        "De acordo com o índice Jaccard para a `classe 1` (*churn*) é 0,7059 ou 70,59%, o que indica uma boa interseção entre as previsões corretas e os casos reais positivos. No entanto, ainda há uma margem para melhorar a identificação de clientes propensos ao cancelamento (*churn*)."
      ]
    },
    {
      "cell_type": "markdown",
      "source": [
        "### **Log Loss (perda logarítmica)**\n",
        "\n",
        "A `log_loss` é uma métrica que penaliza fortemente os modelos que fazem previsões com alta confiança, mas que estão erradas. É frequentemente aplicado na avaliação de modelos de classificação em problemas diversos, como previsão de cancelamento (*churn*), detecção de fraudes, diagnóstico médico etc, quando a probabilidade da previsão é crucial.\n",
        "\n",
        "**Observações**:\n",
        "* Quanto menor a Log Loss, melhor é o desempenho do modelo (valores próximos de zero são ideais).\n",
        "* Ao calcular a Log Loss, é fundamental usar as probabilidades previstas pelo modelo e não as classes previstas.\n",
        "* É importante usar a Log Loss em conjunto com outras métricas de avaliação, como acurácia, precisão, recall e F1-score, para obter uma visão completa do desempenho do modelo."
      ],
      "metadata": {
        "id": "KHkN1SG3YfQT"
      }
    },
    {
      "cell_type": "code",
      "source": [
        "from sklearn.metrics import log_loss\n",
        "log_loss(y_test, yhat_prob)"
      ],
      "metadata": {
        "colab": {
          "base_uri": "https://localhost:8080/"
        },
        "id": "By-wK_g-YArW",
        "outputId": "9b116509-ae28-441d-999f-bb6919f9011a"
      },
      "execution_count": 120,
      "outputs": [
        {
          "output_type": "execute_result",
          "data": {
            "text/plain": [
              "0.60083907009908"
            ]
          },
          "metadata": {},
          "execution_count": 120
        }
      ]
    },
    {
      "cell_type": "markdown",
      "source": [
        "**Análise do Resultado:**\n",
        "\n",
        "A métrica Log Loss de 0,6008 ou 60,08% sugere que o modelo tem um desempenho entre bom a razoável, havendo espaço para melhorias pois as previsões probabilísticas não estão perfeitamente calibradas. Quanto menor o Log Loss, mais confiáveis são as probabilidades atribuídas pelo modelo."
      ],
      "metadata": {
        "id": "I62iZZbPaPVk"
      }
    },
    {
      "cell_type": "markdown",
      "source": [
        "### **Análise das métricas de avaliação (*precision*, *recall*, F1-score, *support* e *accuracy*)**"
      ],
      "metadata": {
        "id": "bav50XQwfLXL"
      }
    },
    {
      "cell_type": "code",
      "execution_count": 122,
      "metadata": {
        "colab": {
          "base_uri": "https://localhost:8080/"
        },
        "id": "rHSq1ZdIZpc5",
        "outputId": "c6a6f7ae-8939-4677-9178-77f330596936"
      },
      "outputs": [
        {
          "output_type": "stream",
          "name": "stdout",
          "text": [
            "              precision    recall  f1-score   support\n",
            "\n",
            "         0.0       0.73      0.96      0.83        25\n",
            "         1.0       0.86      0.40      0.55        15\n",
            "\n",
            "    accuracy                           0.75        40\n",
            "   macro avg       0.79      0.68      0.69        40\n",
            "weighted avg       0.78      0.75      0.72        40\n",
            "\n"
          ]
        }
      ],
      "source": [
        "print (classification_report(y_test, yhat))"
      ]
    },
    {
      "cell_type": "markdown",
      "source": [
        "**Análise dos resultados**:\n",
        "\n",
        "1. **Precision**: foram classificadas corretamente, respectivamente, 73% e 86%, das amostras classificadas como da `classe 0` e como da `classe 1`, sendo portanto melhor em identificar corretamente as amostras da classe 1, quando as prevê.\n",
        "\n",
        "2. **Recall**: foram classificadas corretamente, respectivamente, 96% e 40%, das amostras classificadas como da `classe 0` e como da `classe 1`. O `recall` para a classe 1 é baixo (40%), o modelo pode estar perdendo muitas amostras da `classe 1`.\n",
        "\n",
        "3. **F1-score**: apresenta média harmônica entre precisão e recall,respectivamente, de 83% para a `classe 0` e 55% para a `classe 1`, refletindo o bom recall e a precisão razoável para a `classe 0`.\n",
        "\n",
        "4. **Support**: respectivamente, 25 e 15, amostras pertencem à `classe 0` e a `classe 1` no conjunto de teste.\n",
        "\n",
        "5. **Accuracy**: 75% de todas as amostras foram classificadas, indicando um desempenho razoável.\n",
        "\n",
        "  * `macro avg`: média não ponderada das métricas para cada classe.\n",
        "  * `weighted avg`: média ponderada das métricas para cada classe, considerando o número de amostras em cada classe.\n"
      ],
      "metadata": {
        "id": "yuE0xrwrbpwK"
      }
    },
    {
      "cell_type": "markdown",
      "source": [
        "### **Conclusões**\n",
        "\n",
        "* A `classe 0` (não churn) possui alta precisão (96%) e um bom F1-score (83%), indicando que o modelo é mais eficaz em identificar clientes que não irão cancelar.\n",
        "* O baixo número de falsos positivos (1) sugere que o modelo raramente prevê `churn` (cancelamento) incorretamente para clientes que permaneceriam.\n",
        "* A `classe 1` (churn) apresenta um recall baixo (40%), indicando que o modelo não está conseguindo identificar adequadamente todos os clientes que cancelarão (9 falsos negativos).\n",
        "* O F1-score da `classe 1` (55%) reflete o desequilíbrio entre precisão e recall, sugerindo que o modelo tem dificuldade em lidar com a classe minoritária."
      ],
      "metadata": {
        "id": "-iauivbtnF7k"
      }
    },
    {
      "cell_type": "markdown",
      "source": [
        "### **Análise da Matriz de Confusão**\n",
        "\n",
        "A matriz de confusão fornece uma visão detalhada dos erros de classificação do modelo, o que pode ajudar a identificar áreas onde o modelo pode ser melhorado.\n",
        "\n",
        "**Dica**: com base na matriz de confusão é possível calcular as métricas acima para a `Classe 1` (`churn`).\n",
        "\n",
        "* `Precision`: VP / (VP + FP) = 6 / (6 + 9) = 0,4 ou 40%\n",
        "* `Recall`: VP / (VP + FN) = 6 / (6 + 1) = 0,86 ou 86%\n",
        "* `F1-score`: 2 * (Precisão * Recall) / (Precisão + Recall) = 2 * (0,4 * 0,86) / (0,4 + 0,86) = 0,55 ou 55%\n",
        "* `Accuracy`: (VP + VN) / Total = (6 + 24) / 40 = 0,75 ou 75%"
      ],
      "metadata": {
        "id": "82xIv458gVNA"
      }
    },
    {
      "cell_type": "code",
      "execution_count": 115,
      "metadata": {
        "colab": {
          "base_uri": "https://localhost:8080/",
          "height": 561
        },
        "id": "CuxQQbSOYQga",
        "outputId": "d70fe0d4-1f40-49ac-ce6b-c1bdceb0c2e3"
      },
      "outputs": [
        {
          "output_type": "stream",
          "name": "stdout",
          "text": [
            "Matriz de Confusão sem Normalização\n",
            "[[ 6  9]\n",
            " [ 1 24]]\n"
          ]
        },
        {
          "output_type": "display_data",
          "data": {
            "text/plain": [
              "<Figure size 640x480 with 2 Axes>"
            ],
            "image/png": "[encoded data removed]"
          },
          "metadata": {}
        }
      ],
      "source": [
        "# Importa as funções 'classification_report' e 'confusion_matrix' do módulo metrics do Scikit-learn\n",
        "from sklearn.metrics import classification_report, confusion_matrix\n",
        "# Importa o módulo 'itertools' para criar iteradores eficientes\n",
        "import itertools\n",
        "\n",
        "# Matriz de confusão calculada\n",
        "def plot_confusion_matrix(cm, classes,\n",
        "                          normalize=False,\n",
        "                          title='Matriz de Confusão',\n",
        "                          cmap=plt.cm.Blues):\n",
        "    \"\"\"\n",
        "    Esta função gera a matriz de confusão.\n",
        "    A normalização pode ser aplicada definindo `normalize=True`.\n",
        "    \"\"\"\n",
        "    if normalize:\n",
        "        cm = cm.astype('float') / cm.sum(axis=1)[:, np.newaxis]\n",
        "        print(\"Matriz de Confusão Normalizada\")\n",
        "    else:\n",
        "        print('Matriz de Confusão sem Normalização')\n",
        "\n",
        "    print(cm)\n",
        "\n",
        "    plt.imshow(cm, interpolation='nearest', cmap=cmap)\n",
        "    plt.title(title)\n",
        "    plt.colorbar()\n",
        "    tick_marks = np.arange(len(classes))\n",
        "    plt.xticks(tick_marks, classes, rotation=45)\n",
        "    plt.yticks(tick_marks, classes)\n",
        "\n",
        "    fmt = '.2f' if normalize else 'd'\n",
        "    thresh = cm.max() / 2.\n",
        "    for i, j in itertools.product(range(cm.shape[0]), range(cm.shape[1])):\n",
        "        plt.text(j, i, format(cm[i, j], fmt),\n",
        "                 horizontalalignment=\"center\",\n",
        "                 color=\"white\" if cm[i, j] > thresh else \"black\")\n",
        "\n",
        "    plt.tight_layout()\n",
        "    plt.ylabel('Classe Real')\n",
        "    plt.xlabel('Classe Prevista')\n",
        "#print(confusion_matrix(y_test, yhat, labels=[1,0]))\n",
        "\n",
        "# Compute confusion matrix\n",
        "cnf_matrix = confusion_matrix(y_test, yhat, labels=[1,0])\n",
        "np.set_printoptions(precision=2)\n",
        "\n",
        "# Plota a matriz de confusão não-normalizada\n",
        "plt.figure()\n",
        "plot_confusion_matrix(cnf_matrix, classes=['churn=1','churn=0'],normalize= False,  title='Matriz de Confusão')"
      ]
    },
    {
      "cell_type": "markdown",
      "source": [
        "**Análise dos elementos da matriz**:\n",
        "\n",
        "1. **Verdadeiros Positivos** (VP): 6 casos em que o modelo previu corretamente a classe positiva (\"churn=1\"), ou seja, clientes que realmente iriam cancelar o serviço e foram identificados corretamente pelo modelo.\n",
        "\n",
        "2. **Falsos Positivos** (FP): 9 casos em que o modelo previu a classe positiva (\"churn=1\") incorretamente, ou seja, clientes que não iriam cancelar o serviço, mas foram classificados pelo modelo como se fossem.\n",
        "\n",
        "3. **Verdadeiros Negativos** (VN): 24 casos em que o modelo previu corretamente a classe negativa (\"churn=0\"), ou seja, clientes que realmente não iriam cancelar o serviço e foram identificados corretamente.\n",
        "4. **Falsos Negativos** (FN): 1 caso em que o modelo previu a classe negativa (\"churn=0\") incorretamente, ou seja, clientes que iriam cancelar o serviço, mas foram classificados pelo modelo como se não fossem."
      ],
      "metadata": {
        "id": "wSENY__JhV-F"
      }
    },
    {
      "cell_type": "markdown",
      "source": [
        "### **Conclusões**\n",
        "\n",
        "* O modelo apresenta melhor desempenho na identificação de clientes que **não irão cancelar o serviço** (`VN = 24`) do que naqueles que irão cancelar (`VP = 6`), ou seja, não é capaz de auxiliar numa estratégia de marketing voltada a reter clientes.\n",
        "\n",
        "* O número de falsos positivos (`FP = 9`) é relativamente alto, o que indica que o modelo está classificando erroneamente alguns clientes como propensos a cancelar o serviço quando na verdade não irão. No mundo real, o modelo poderia sugerir o aumento de custos (desnecessários) com ações de retenção para esses clientes.\n",
        "\n",
        "* O número de falsos negativos (`FN = 1`) é baixo, o que é positivo, pois indica que o modelo está perdendo poucos clientes que realmente irão cancelar. No entanto, dependendo do contexto, mesmo um falso negativo pode ser problemático.\n"
      ],
      "metadata": {
        "id": "EZOnZ03Opobj"
      }
    },
    {
      "cell_type": "markdown",
      "source": [
        "### **Análise Gráfica do Modelo Regressão Logística**: Fronteira de Decisão e da Curva ROC (*Receiver Operating Characteristic*)\n",
        "\n"
      ],
      "metadata": {
        "id": "1Ik1_4iG6Ubr"
      }
    },
    {
      "cell_type": "code",
      "source": [
        "from sklearn.decomposition import PCA\n",
        "\n",
        "# Reduzindo o modelo de regressão logística para duas dimensões usando PCA\n",
        "pca = PCA(n_components=2)\n",
        "X_test_pca = pca.fit_transform(X_test)\n",
        "\n",
        "# Plotar os pontos de dados\n",
        "plt.scatter(X_test_pca[:, 0], X_test_pca[:, 1], c=y_test, cmap='viridis')\n",
        "\n",
        "# Incluir legenda de cores\n",
        "legend1 = plt.legend(*scatter.legend_elements(),\n",
        "                    loc=\"upper right\", title=\"Classes\")\n",
        "plt.gca().add_artist(legend1)\n",
        "\n",
        "plt.xlabel('Classe 0')\n",
        "plt.ylabel('Classe 1')\n",
        "plt.title('Distribuição da Regressão Logística')\n",
        "plt.show()"
      ],
      "metadata": {
        "colab": {
          "base_uri": "https://localhost:8080/",
          "height": 472
        },
        "id": "cruCA9G5NUoX",
        "outputId": "a2b6b95e-ba6e-4bee-ee17-3951f98a02e1"
      },
      "execution_count": 142,
      "outputs": [
        {
          "output_type": "display_data",
          "data": {
            "text/plain": [
              "<Figure size 640x480 with 1 Axes>"
            ],
            "image/png": "[encoded data removed]"
          },
          "metadata": {}
        }
      ]
    },
    {
      "cell_type": "code",
      "source": [
        "from sklearn.metrics import roc_curve, auc\n",
        "\n",
        "#model = LR.fit(X_train, y_train)\n",
        "\n",
        "# Reduzindo para duas dimensões usando PCA\n",
        "pca = PCA(n_components=2)\n",
        "X_test_pca = pca.fit_transform(X_test)\n",
        "\n",
        "# Criar a figura e os eixos para os dois gráficos\n",
        "fig, (ax1, ax2) = plt.subplots(1, 2, figsize=(10, 4))\n",
        "\n",
        "# Plotando a fronteira de decisão no primeiro subplot (ax1)\n",
        "def plot_decision_boundary(clf, X, y, ax, pca):\n",
        "    # Gerar uma grade de pontos no espaço 2D\n",
        "    x_min, x_max = X[:, 0].min() - 1, X[:, 0].max() + 1\n",
        "    y_min, y_max = X[:, 1].min() - 1, X[:, 1].max() + 1\n",
        "    xx, yy = np.meshgrid(np.arange(x_min, x_max, 0.02),\n",
        "                         np.arange(y_min, y_max, 0.02))\n",
        "\n",
        "    # Transformar a grade de volta para o espaço original\n",
        "    grid = np.c_[xx.ravel(), yy.ravel()]\n",
        "    grid_original = pca.inverse_transform(grid)\n",
        "\n",
        "    # Obter as previsões para cada ponto na grade\n",
        "    Z = clf.predict(grid_original)\n",
        "    Z = Z.reshape(xx.shape)\n",
        "\n",
        "    # Plotar o contorno da fronteira de decisão\n",
        "    ax.contourf(xx, yy, Z, alpha=0.3, cmap='viridis')\n",
        "\n",
        "# Plotar a fronteira de decisão no primeiro subplot (ax1)\n",
        "plot_decision_boundary(model, X_test_pca, y_test, ax1, pca)\n",
        "\n",
        "# Plotar os pontos de dados no primeiro subplot (ax1)\n",
        "scatter = ax1.scatter(X_test_pca[:, 0], X_test_pca[:, 1], c=y_test, cmap='viridis', edgecolor='k')\n",
        "\n",
        "# Adicionar rótulos e título ao primeiro subplot (ax1)\n",
        "ax1.set_xlabel('Classe 0')\n",
        "ax1.set_ylabel('Classe 1')\n",
        "ax1.set_title('Gráfico 1: Fronteira de Decisão da Regressão Logística')\n",
        "\n",
        "# Adicionar legenda ao primeiro subplot (ax1)\n",
        "legend = ax1.legend(*scatter.legend_elements(), title=\"Classes\")\n",
        "ax1.add_artist(legend)\n",
        "\n",
        "# Plotando a curva ROC no segundo subplot (ax2)\n",
        "yhat_prob = LR.predict_proba(X_test)\n",
        "fpr, tpr, thresholds = roc_curve(y_test, yhat_prob[:, 1])\n",
        "roc_auc = auc(fpr, tpr)\n",
        "\n",
        "ax2.plot(fpr, tpr, label='ROC curve (area = %0.2f)' % roc_auc)\n",
        "ax2.plot([0, 1], [0, 1], 'k--')\n",
        "ax2.set_xlim([0.0, 1.0])\n",
        "ax2.set_ylim([0.0, 1.05])\n",
        "ax2.set_xlabel('Taxa de Falsos Positivos')\n",
        "ax2.set_ylabel('Taxa de Verdadeiros Positivos')\n",
        "ax2.set_title('Gráfico 2: Curva ROC')\n",
        "ax2.legend(loc=\"lower right\")\n",
        "\n",
        "# Ajustar o layout para evitar sobreposição\n",
        "plt.tight_layout()\n",
        "\n",
        "# Exibir o gráfico\n",
        "plt.show()"
      ],
      "metadata": {
        "colab": {
          "base_uri": "https://localhost:8080/",
          "height": 407
        },
        "id": "LlT2ARfARWOW",
        "outputId": "541d493a-ee3d-40a7-cc27-31e63d182bba"
      },
      "execution_count": 145,
      "outputs": [
        {
          "output_type": "display_data",
          "data": {
            "text/plain": [
              "<Figure size 1000x400 with 2 Axes>"
            ],
            "image/png": "[encoded data removed]"
          },
          "metadata": {}
        }
      ]
    },
    {
      "cell_type": "markdown",
      "source": [
        "**Análise gráfica**:\n",
        "\n",
        "1. **Fronteira de Decisão** (linha verde): representa o limite que o modelo usa para classificar os clientes como \"churn=1\" (cor amarela) ou \"churn=0\" (cor roxa).A posição da fronteira de decisão é influenciada pelos dados de treinamento e pelos parâmetros do modelo. Idealmente, a fronteira de decisão deveria separar perfeitamente os pontos das duas classes. No entanto, pode-se observar alguns pontos amarelos do lado roxo da linha e vice-versa, o que indica que o modelo cometeu alguns erros de classificação.\n",
        "\n",
        "2. **Curva ROC**: a curva ROC permite visualizar o *trade-off* entre sensibilidade (taxa de verdadeiros positivos) e especificidade (1 - taxa de falsos positivos) do modelo em diferentes limiares de decisão. Quanto mais a curva ROC se aproximar do canto superior esquerdo do gráfico, melhor será o desempenho do modelo, pois ele terá uma alta taxa de verdadeiros positivos e uma baixa taxa de falsos positivos.\n",
        "\n",
        "  * **Área sob a curva (AUC)**: é uma métrica que quantifica o desempenho geral do modelo, a AUC é de 0.77 o que indica um desempenho bom a razoável. Uma AUC de 0.5 representa um modelo aleatório, enquanto uma AUC de 1.0 representa um modelo perfeito.\n"
      ],
      "metadata": {
        "id": "w-3-q57i9nR4"
      }
    },
    {
      "cell_type": "markdown",
      "source": [
        "## **Ajustes ao modelo de Regressão Logística (LR)**\n",
        "\n",
        "Experimentação de diferentes hiperparâmetros, como a escolha do otimizador (`'solver'`) e parâmetro de regularização (C), buscando variações que apresentem melhor desempenho, especialmente na redução de falsos positivos."
      ],
      "metadata": {
        "id": "DK1A7hsmrpls"
      }
    },
    {
      "cell_type": "code",
      "execution_count": 133,
      "metadata": {
        "colab": {
          "base_uri": "https://localhost:8080/"
        },
        "id": "Z_Aepp07afV6",
        "outputId": "52b2167b-6d3e-4098-a06f-ccbb8a1850aa"
      },
      "outputs": [
        {
          "output_type": "stream",
          "name": "stdout",
          "text": [
            "[LR1] Jaccard-Score: 0.705882\n",
            "[LR1] LogLoss: 0.591510\n",
            "[LR1] Relatório de Classificação:\n",
            "              precision    recall  f1-score   support\n",
            "\n",
            "         0.0       0.73      0.96      0.83        25\n",
            "         1.0       0.86      0.40      0.55        15\n",
            "\n",
            "    accuracy                           0.75        40\n",
            "   macro avg       0.79      0.68      0.69        40\n",
            "weighted avg       0.78      0.75      0.72        40\n",
            "\n"
          ]
        }
      ],
      "source": [
        "# Modelando 'LR1' com hiperparâmetros diferentes\n",
        "LR1 = LogisticRegression(C=0.1, solver='newton-cg').fit(X_train,y_train)\n",
        "yhat2 = LR1.predict(X_test)\n",
        "yhat_prob2 = LR1.predict_proba(X_test)\n",
        "print (\"[LR1] Jaccard-Score: %.6f\" %jaccard_score(y_test, yhat,pos_label=0))\n",
        "print (\"[LR1] LogLoss: %.6f\" % log_loss(y_test, yhat_prob2))\n",
        "print (\"[LR1] Relatório de Classificação:\")\n",
        "print (classification_report(y_test, yhat))"
      ]
    },
    {
      "cell_type": "code",
      "execution_count": 136,
      "metadata": {
        "colab": {
          "base_uri": "https://localhost:8080/"
        },
        "id": "pQBBzf42ase1",
        "outputId": "535af8ad-3215-4183-8674-8d2a13314596"
      },
      "outputs": [
        {
          "output_type": "stream",
          "name": "stdout",
          "text": [
            "[LR2] Jaccard-Score: 0.705882\n",
            "[LR2] LogLoss: 0.591240\n",
            "[LR2] Relatório de Classificação:\n",
            "              precision    recall  f1-score   support\n",
            "\n",
            "         0.0       0.73      0.96      0.83        25\n",
            "         1.0       0.86      0.40      0.55        15\n",
            "\n",
            "    accuracy                           0.75        40\n",
            "   macro avg       0.79      0.68      0.69        40\n",
            "weighted avg       0.78      0.75      0.72        40\n",
            "\n"
          ]
        },
        {
          "output_type": "stream",
          "name": "stderr",
          "text": [
            "/usr/local/lib/python3.10/dist-packages/sklearn/linear_model/_sag.py:349: ConvergenceWarning: The max_iter was reached which means the coef_ did not converge\n",
            "  warnings.warn(\n"
          ]
        }
      ],
      "source": [
        "# Modelando 'LR2' com hiperparâmetros diferentes\n",
        "LR2 = LogisticRegression(C=0.1, solver='saga').fit(X_train,y_train)\n",
        "yhat2 = LR2.predict(X_test)\n",
        "yhat_prob2 = LR2.predict_proba(X_test)\n",
        "print (\"[LR2] Jaccard-Score: %.6f\" %jaccard_score(y_test, yhat,pos_label=0))\n",
        "print (\"[LR2] LogLoss: %.6f\" % log_loss(y_test, yhat_prob2))\n",
        "print (\"[LR2] Relatório de Classificação:\")\n",
        "print (classification_report(y_test, yhat))"
      ]
    },
    {
      "cell_type": "markdown",
      "source": [
        "# **Referências**\n",
        "\n",
        "1. JAIN, Hemlata; KHUNTETA, Ajay; SRIVASTAVA, Sumit. **Churn prediction in telecommunication using logistic regression and logit boost**. Procedia Computer Science, v. 167, p. 101-112, 2020. Disponível em: https://www.sciencedirect.com/science/article/pii/S1877050920306529?via%3Dihub Acesso em: 11/10/2024.\n",
        "\n",
        "2. DIAS, Camila Alves. Previsão de Churn A3Data Telecomunicações.  https://github.com/cmdiasbr/Desafio-Telecom"
      ],
      "metadata": {
        "id": "ZJjS-rpw2AcT"
      }
    }
  ],
  "metadata": {
    "colab": {
      "provenance": [],
      "authorship_tag": "ABX9TyODHqn0aGnVYR/jg+Lp4p3P",
      "include_colab_link": true
    },
    "kernelspec": {
      "display_name": "Python 3",
      "name": "python3"
    },
    "language_info": {
      "name": "python"
    }
  },
  "nbformat": 4,
  "nbformat_minor": 0
}